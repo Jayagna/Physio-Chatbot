{
 "cells": [
  {
   "cell_type": "code",
   "execution_count": null,
   "metadata": {},
   "outputs": [
    {
     "name": "stderr",
     "output_type": "stream",
     "text": [
      "c:\\Users\\ASUS\\Documents\\GitHub\\Physio-Chatbot\\physioenv\\Lib\\site-packages\\tqdm\\auto.py:21: TqdmWarning: IProgress not found. Please update jupyter and ipywidgets. See https://ipywidgets.readthedocs.io/en/stable/user_install.html\n",
      "  from .autonotebook import tqdm as notebook_tqdm\n"
     ]
    }
   ],
   "source": [
    "import streamlit as st\n",
    "import google.generativeai as genai"
   ]
  },
  {
   "cell_type": "code",
   "execution_count": 2,
   "metadata": {},
   "outputs": [],
   "source": [
    "from dotenv import load_dotenv\n",
    "import os\n",
    "load_dotenv()\n",
    "# CONFIGURING GENAI KEY\n",
    "api_key=os.getenv(\"GOOGLE_API_KEY\")\n",
    "genai.configure(api_key=api_key)"
   ]
  },
  {
   "cell_type": "code",
   "execution_count": 3,
   "metadata": {},
   "outputs": [],
   "source": [
    "import fitz\n",
    "# Function to extract text from a PDF\n",
    "def extract_text_from_pdf(pdf_path):\n",
    "    doc = fitz.open(pdf_path)\n",
    "    text = \"\"\n",
    "    for page in doc:\n",
    "        text += page.get_text()\n",
    "    return text"
   ]
  },
  {
   "cell_type": "code",
   "execution_count": 4,
   "metadata": {},
   "outputs": [],
   "source": [
    "extracted_data = extract_text_from_pdf(r\"C:\\Users\\ASUS\\Documents\\GitHub\\Physio-Chatbot\\Sources\\Tidy's Physiotherapy.pdf\")"
   ]
  },
  {
   "cell_type": "code",
   "execution_count": 5,
   "metadata": {},
   "outputs": [],
   "source": [
    "from langchain_text_splitters import RecursiveCharacterTextSplitter\n",
    "# Function to split the extracted text into chunks\n",
    "def split_text_into_chunks(text):\n",
    "    text_splitter = RecursiveCharacterTextSplitter(chunk_size=500, chunk_overlap=50)\n",
    "    chunks = text_splitter.split_text(text)\n",
    "    return chunks"
   ]
  },
  {
   "cell_type": "code",
   "execution_count": 6,
   "metadata": {},
   "outputs": [],
   "source": [
    "splitted_chunks=split_text_into_chunks(extracted_data)"
   ]
  },
  {
   "cell_type": "code",
   "execution_count": 7,
   "metadata": {},
   "outputs": [
    {
     "name": "stdout",
     "output_type": "stream",
     "text": [
      "Chunk 0: Tidy's Physiotherapy\n",
      "Dedication\n",
      "To all the physiotherapy students, who have taught me so much.\n",
      "I tha\n",
      "Chunk 1: Manchester\n",
      "UK\n",
      "Honorary Research Fellow\n",
      "Wrightington Wigan and Leigh NHS Trust\n",
      "Wigan\n",
      "Lancashire\n",
      "UK\n",
      "B \n",
      "Chunk 2: or by any means, electronic, mechanical, photocopying, recording or otherwise, without either the pr\n",
      "Chunk 3: complete your request on-line via the Elsevier Science homepage (http://www.elsevier.com), by select\n",
      "Chunk 4: Notice\n",
      "Medical knowledge is constantly changing. Standard safety precautions must be followed, but a\n"
     ]
    }
   ],
   "source": [
    "for i, chunk in enumerate(splitted_chunks[:5]):\n",
    "    print(f\"Chunk {i}: {chunk[:100]}\") "
   ]
  },
  {
   "cell_type": "code",
   "execution_count": 8,
   "metadata": {},
   "outputs": [],
   "source": [
    "def generate_gemini_embeddings(chunks):\n",
    "    embeddings = []\n",
    "    for chunk in chunks:\n",
    "        if chunk.strip():  # Ensure the chunk is not empty\n",
    "            response = genai.embed_content(\n",
    "                model=\"models/text-embedding-004\",  # Gemini Pro embedding model\n",
    "                content=chunk\n",
    "            )\n",
    "            \n",
    "            # Now we directly access 'embedding' as it contains the values directly\n",
    "            if isinstance(response, dict) and 'embedding' in response:\n",
    "                embeddings.append(response['embedding'])  # Append the embedding directly\n",
    "    return embeddings"
   ]
  },
  {
   "cell_type": "code",
   "execution_count": 9,
   "metadata": {},
   "outputs": [
    {
     "ename": "KeyboardInterrupt",
     "evalue": "",
     "output_type": "error",
     "traceback": [
      "\u001b[1;31m---------------------------------------------------------------------------\u001b[0m",
      "\u001b[1;31mKeyboardInterrupt\u001b[0m                         Traceback (most recent call last)",
      "Cell \u001b[1;32mIn[9], line 1\u001b[0m\n\u001b[1;32m----> 1\u001b[0m embedded_chunks\u001b[38;5;241m=\u001b[39m\u001b[43mgenerate_gemini_embeddings\u001b[49m\u001b[43m(\u001b[49m\u001b[43msplitted_chunks\u001b[49m\u001b[43m)\u001b[49m\n",
      "Cell \u001b[1;32mIn[8], line 5\u001b[0m, in \u001b[0;36mgenerate_gemini_embeddings\u001b[1;34m(chunks)\u001b[0m\n\u001b[0;32m      3\u001b[0m \u001b[38;5;28;01mfor\u001b[39;00m chunk \u001b[38;5;129;01min\u001b[39;00m chunks:\n\u001b[0;32m      4\u001b[0m     \u001b[38;5;28;01mif\u001b[39;00m chunk\u001b[38;5;241m.\u001b[39mstrip():  \u001b[38;5;66;03m# Ensure the chunk is not empty\u001b[39;00m\n\u001b[1;32m----> 5\u001b[0m         response \u001b[38;5;241m=\u001b[39m \u001b[43mgenai\u001b[49m\u001b[38;5;241;43m.\u001b[39;49m\u001b[43membed_content\u001b[49m\u001b[43m(\u001b[49m\n\u001b[0;32m      6\u001b[0m \u001b[43m            \u001b[49m\u001b[43mmodel\u001b[49m\u001b[38;5;241;43m=\u001b[39;49m\u001b[38;5;124;43m\"\u001b[39;49m\u001b[38;5;124;43mmodels/text-embedding-004\u001b[39;49m\u001b[38;5;124;43m\"\u001b[39;49m\u001b[43m,\u001b[49m\u001b[43m  \u001b[49m\u001b[38;5;66;43;03m# Gemini Pro embedding model\u001b[39;49;00m\n\u001b[0;32m      7\u001b[0m \u001b[43m            \u001b[49m\u001b[43mcontent\u001b[49m\u001b[38;5;241;43m=\u001b[39;49m\u001b[43mchunk\u001b[49m\n\u001b[0;32m      8\u001b[0m \u001b[43m        \u001b[49m\u001b[43m)\u001b[49m\n\u001b[0;32m     10\u001b[0m         \u001b[38;5;66;03m# Now we directly access 'embedding' as it contains the values directly\u001b[39;00m\n\u001b[0;32m     11\u001b[0m         \u001b[38;5;28;01mif\u001b[39;00m \u001b[38;5;28misinstance\u001b[39m(response, \u001b[38;5;28mdict\u001b[39m) \u001b[38;5;129;01mand\u001b[39;00m \u001b[38;5;124m'\u001b[39m\u001b[38;5;124membedding\u001b[39m\u001b[38;5;124m'\u001b[39m \u001b[38;5;129;01min\u001b[39;00m response:\n",
      "File \u001b[1;32mc:\\Users\\ASUS\\Documents\\GitHub\\Physio-Chatbot\\physioenv\\Lib\\site-packages\\google\\generativeai\\embedding.py:213\u001b[0m, in \u001b[0;36membed_content\u001b[1;34m(model, content, task_type, title, output_dimensionality, client, request_options)\u001b[0m\n\u001b[0;32m    205\u001b[0m \u001b[38;5;28;01melse\u001b[39;00m:\n\u001b[0;32m    206\u001b[0m     embedding_request \u001b[38;5;241m=\u001b[39m protos\u001b[38;5;241m.\u001b[39mEmbedContentRequest(\n\u001b[0;32m    207\u001b[0m         model\u001b[38;5;241m=\u001b[39mmodel,\n\u001b[0;32m    208\u001b[0m         content\u001b[38;5;241m=\u001b[39mcontent_types\u001b[38;5;241m.\u001b[39mto_content(content),\n\u001b[1;32m   (...)\u001b[0m\n\u001b[0;32m    211\u001b[0m         output_dimensionality\u001b[38;5;241m=\u001b[39moutput_dimensionality,\n\u001b[0;32m    212\u001b[0m     )\n\u001b[1;32m--> 213\u001b[0m     embedding_response \u001b[38;5;241m=\u001b[39m \u001b[43mclient\u001b[49m\u001b[38;5;241;43m.\u001b[39;49m\u001b[43membed_content\u001b[49m\u001b[43m(\u001b[49m\n\u001b[0;32m    214\u001b[0m \u001b[43m        \u001b[49m\u001b[43membedding_request\u001b[49m\u001b[43m,\u001b[49m\n\u001b[0;32m    215\u001b[0m \u001b[43m        \u001b[49m\u001b[38;5;241;43m*\u001b[39;49m\u001b[38;5;241;43m*\u001b[39;49m\u001b[43mrequest_options\u001b[49m\u001b[43m,\u001b[49m\n\u001b[0;32m    216\u001b[0m \u001b[43m    \u001b[49m\u001b[43m)\u001b[49m\n\u001b[0;32m    217\u001b[0m     embedding_dict \u001b[38;5;241m=\u001b[39m \u001b[38;5;28mtype\u001b[39m(embedding_response)\u001b[38;5;241m.\u001b[39mto_dict(embedding_response)\n\u001b[0;32m    218\u001b[0m     embedding_dict[\u001b[38;5;124m\"\u001b[39m\u001b[38;5;124membedding\u001b[39m\u001b[38;5;124m\"\u001b[39m] \u001b[38;5;241m=\u001b[39m embedding_dict[\u001b[38;5;124m\"\u001b[39m\u001b[38;5;124membedding\u001b[39m\u001b[38;5;124m\"\u001b[39m][\u001b[38;5;124m\"\u001b[39m\u001b[38;5;124mvalues\u001b[39m\u001b[38;5;124m\"\u001b[39m]\n",
      "File \u001b[1;32mc:\\Users\\ASUS\\Documents\\GitHub\\Physio-Chatbot\\physioenv\\Lib\\site-packages\\google\\ai\\generativelanguage_v1beta\\services\\generative_service\\client.py:1252\u001b[0m, in \u001b[0;36mGenerativeServiceClient.embed_content\u001b[1;34m(self, request, model, content, retry, timeout, metadata)\u001b[0m\n\u001b[0;32m   1249\u001b[0m \u001b[38;5;28mself\u001b[39m\u001b[38;5;241m.\u001b[39m_validate_universe_domain()\n\u001b[0;32m   1251\u001b[0m \u001b[38;5;66;03m# Send the request.\u001b[39;00m\n\u001b[1;32m-> 1252\u001b[0m response \u001b[38;5;241m=\u001b[39m \u001b[43mrpc\u001b[49m\u001b[43m(\u001b[49m\n\u001b[0;32m   1253\u001b[0m \u001b[43m    \u001b[49m\u001b[43mrequest\u001b[49m\u001b[43m,\u001b[49m\n\u001b[0;32m   1254\u001b[0m \u001b[43m    \u001b[49m\u001b[43mretry\u001b[49m\u001b[38;5;241;43m=\u001b[39;49m\u001b[43mretry\u001b[49m\u001b[43m,\u001b[49m\n\u001b[0;32m   1255\u001b[0m \u001b[43m    \u001b[49m\u001b[43mtimeout\u001b[49m\u001b[38;5;241;43m=\u001b[39;49m\u001b[43mtimeout\u001b[49m\u001b[43m,\u001b[49m\n\u001b[0;32m   1256\u001b[0m \u001b[43m    \u001b[49m\u001b[43mmetadata\u001b[49m\u001b[38;5;241;43m=\u001b[39;49m\u001b[43mmetadata\u001b[49m\u001b[43m,\u001b[49m\n\u001b[0;32m   1257\u001b[0m \u001b[43m\u001b[49m\u001b[43m)\u001b[49m\n\u001b[0;32m   1259\u001b[0m \u001b[38;5;66;03m# Done; return the response.\u001b[39;00m\n\u001b[0;32m   1260\u001b[0m \u001b[38;5;28;01mreturn\u001b[39;00m response\n",
      "File \u001b[1;32mc:\\Users\\ASUS\\Documents\\GitHub\\Physio-Chatbot\\physioenv\\Lib\\site-packages\\google\\api_core\\gapic_v1\\method.py:131\u001b[0m, in \u001b[0;36m_GapicCallable.__call__\u001b[1;34m(self, timeout, retry, compression, *args, **kwargs)\u001b[0m\n\u001b[0;32m    128\u001b[0m \u001b[38;5;28;01mif\u001b[39;00m \u001b[38;5;28mself\u001b[39m\u001b[38;5;241m.\u001b[39m_compression \u001b[38;5;129;01mis\u001b[39;00m \u001b[38;5;129;01mnot\u001b[39;00m \u001b[38;5;28;01mNone\u001b[39;00m:\n\u001b[0;32m    129\u001b[0m     kwargs[\u001b[38;5;124m\"\u001b[39m\u001b[38;5;124mcompression\u001b[39m\u001b[38;5;124m\"\u001b[39m] \u001b[38;5;241m=\u001b[39m compression\n\u001b[1;32m--> 131\u001b[0m \u001b[38;5;28;01mreturn\u001b[39;00m \u001b[43mwrapped_func\u001b[49m\u001b[43m(\u001b[49m\u001b[38;5;241;43m*\u001b[39;49m\u001b[43margs\u001b[49m\u001b[43m,\u001b[49m\u001b[43m \u001b[49m\u001b[38;5;241;43m*\u001b[39;49m\u001b[38;5;241;43m*\u001b[39;49m\u001b[43mkwargs\u001b[49m\u001b[43m)\u001b[49m\n",
      "File \u001b[1;32mc:\\Users\\ASUS\\Documents\\GitHub\\Physio-Chatbot\\physioenv\\Lib\\site-packages\\google\\api_core\\retry\\retry_unary.py:293\u001b[0m, in \u001b[0;36mRetry.__call__.<locals>.retry_wrapped_func\u001b[1;34m(*args, **kwargs)\u001b[0m\n\u001b[0;32m    289\u001b[0m target \u001b[38;5;241m=\u001b[39m functools\u001b[38;5;241m.\u001b[39mpartial(func, \u001b[38;5;241m*\u001b[39margs, \u001b[38;5;241m*\u001b[39m\u001b[38;5;241m*\u001b[39mkwargs)\n\u001b[0;32m    290\u001b[0m sleep_generator \u001b[38;5;241m=\u001b[39m exponential_sleep_generator(\n\u001b[0;32m    291\u001b[0m     \u001b[38;5;28mself\u001b[39m\u001b[38;5;241m.\u001b[39m_initial, \u001b[38;5;28mself\u001b[39m\u001b[38;5;241m.\u001b[39m_maximum, multiplier\u001b[38;5;241m=\u001b[39m\u001b[38;5;28mself\u001b[39m\u001b[38;5;241m.\u001b[39m_multiplier\n\u001b[0;32m    292\u001b[0m )\n\u001b[1;32m--> 293\u001b[0m \u001b[38;5;28;01mreturn\u001b[39;00m \u001b[43mretry_target\u001b[49m\u001b[43m(\u001b[49m\n\u001b[0;32m    294\u001b[0m \u001b[43m    \u001b[49m\u001b[43mtarget\u001b[49m\u001b[43m,\u001b[49m\n\u001b[0;32m    295\u001b[0m \u001b[43m    \u001b[49m\u001b[38;5;28;43mself\u001b[39;49m\u001b[38;5;241;43m.\u001b[39;49m\u001b[43m_predicate\u001b[49m\u001b[43m,\u001b[49m\n\u001b[0;32m    296\u001b[0m \u001b[43m    \u001b[49m\u001b[43msleep_generator\u001b[49m\u001b[43m,\u001b[49m\n\u001b[0;32m    297\u001b[0m \u001b[43m    \u001b[49m\u001b[43mtimeout\u001b[49m\u001b[38;5;241;43m=\u001b[39;49m\u001b[38;5;28;43mself\u001b[39;49m\u001b[38;5;241;43m.\u001b[39;49m\u001b[43m_timeout\u001b[49m\u001b[43m,\u001b[49m\n\u001b[0;32m    298\u001b[0m \u001b[43m    \u001b[49m\u001b[43mon_error\u001b[49m\u001b[38;5;241;43m=\u001b[39;49m\u001b[43mon_error\u001b[49m\u001b[43m,\u001b[49m\n\u001b[0;32m    299\u001b[0m \u001b[43m\u001b[49m\u001b[43m)\u001b[49m\n",
      "File \u001b[1;32mc:\\Users\\ASUS\\Documents\\GitHub\\Physio-Chatbot\\physioenv\\Lib\\site-packages\\google\\api_core\\retry\\retry_unary.py:144\u001b[0m, in \u001b[0;36mretry_target\u001b[1;34m(target, predicate, sleep_generator, timeout, on_error, exception_factory, **kwargs)\u001b[0m\n\u001b[0;32m    142\u001b[0m \u001b[38;5;28;01mfor\u001b[39;00m sleep \u001b[38;5;129;01min\u001b[39;00m sleep_generator:\n\u001b[0;32m    143\u001b[0m     \u001b[38;5;28;01mtry\u001b[39;00m:\n\u001b[1;32m--> 144\u001b[0m         result \u001b[38;5;241m=\u001b[39m \u001b[43mtarget\u001b[49m\u001b[43m(\u001b[49m\u001b[43m)\u001b[49m\n\u001b[0;32m    145\u001b[0m         \u001b[38;5;28;01mif\u001b[39;00m inspect\u001b[38;5;241m.\u001b[39misawaitable(result):\n\u001b[0;32m    146\u001b[0m             warnings\u001b[38;5;241m.\u001b[39mwarn(_ASYNC_RETRY_WARNING)\n",
      "File \u001b[1;32mc:\\Users\\ASUS\\Documents\\GitHub\\Physio-Chatbot\\physioenv\\Lib\\site-packages\\google\\api_core\\timeout.py:120\u001b[0m, in \u001b[0;36mTimeToDeadlineTimeout.__call__.<locals>.func_with_timeout\u001b[1;34m(*args, **kwargs)\u001b[0m\n\u001b[0;32m    117\u001b[0m     \u001b[38;5;66;03m# Avoid setting negative timeout\u001b[39;00m\n\u001b[0;32m    118\u001b[0m     kwargs[\u001b[38;5;124m\"\u001b[39m\u001b[38;5;124mtimeout\u001b[39m\u001b[38;5;124m\"\u001b[39m] \u001b[38;5;241m=\u001b[39m \u001b[38;5;28mmax\u001b[39m(\u001b[38;5;241m0\u001b[39m, \u001b[38;5;28mself\u001b[39m\u001b[38;5;241m.\u001b[39m_timeout \u001b[38;5;241m-\u001b[39m time_since_first_attempt)\n\u001b[1;32m--> 120\u001b[0m \u001b[38;5;28;01mreturn\u001b[39;00m \u001b[43mfunc\u001b[49m\u001b[43m(\u001b[49m\u001b[38;5;241;43m*\u001b[39;49m\u001b[43margs\u001b[49m\u001b[43m,\u001b[49m\u001b[43m \u001b[49m\u001b[38;5;241;43m*\u001b[39;49m\u001b[38;5;241;43m*\u001b[39;49m\u001b[43mkwargs\u001b[49m\u001b[43m)\u001b[49m\n",
      "File \u001b[1;32mc:\\Users\\ASUS\\Documents\\GitHub\\Physio-Chatbot\\physioenv\\Lib\\site-packages\\google\\api_core\\grpc_helpers.py:76\u001b[0m, in \u001b[0;36m_wrap_unary_errors.<locals>.error_remapped_callable\u001b[1;34m(*args, **kwargs)\u001b[0m\n\u001b[0;32m     73\u001b[0m \u001b[38;5;129m@functools\u001b[39m\u001b[38;5;241m.\u001b[39mwraps(callable_)\n\u001b[0;32m     74\u001b[0m \u001b[38;5;28;01mdef\u001b[39;00m \u001b[38;5;21merror_remapped_callable\u001b[39m(\u001b[38;5;241m*\u001b[39margs, \u001b[38;5;241m*\u001b[39m\u001b[38;5;241m*\u001b[39mkwargs):\n\u001b[0;32m     75\u001b[0m     \u001b[38;5;28;01mtry\u001b[39;00m:\n\u001b[1;32m---> 76\u001b[0m         \u001b[38;5;28;01mreturn\u001b[39;00m \u001b[43mcallable_\u001b[49m\u001b[43m(\u001b[49m\u001b[38;5;241;43m*\u001b[39;49m\u001b[43margs\u001b[49m\u001b[43m,\u001b[49m\u001b[43m \u001b[49m\u001b[38;5;241;43m*\u001b[39;49m\u001b[38;5;241;43m*\u001b[39;49m\u001b[43mkwargs\u001b[49m\u001b[43m)\u001b[49m\n\u001b[0;32m     77\u001b[0m     \u001b[38;5;28;01mexcept\u001b[39;00m grpc\u001b[38;5;241m.\u001b[39mRpcError \u001b[38;5;28;01mas\u001b[39;00m exc:\n\u001b[0;32m     78\u001b[0m         \u001b[38;5;28;01mraise\u001b[39;00m exceptions\u001b[38;5;241m.\u001b[39mfrom_grpc_error(exc) \u001b[38;5;28;01mfrom\u001b[39;00m \u001b[38;5;21;01mexc\u001b[39;00m\n",
      "File \u001b[1;32mc:\\Users\\ASUS\\Documents\\GitHub\\Physio-Chatbot\\physioenv\\Lib\\site-packages\\grpc\\_channel.py:1178\u001b[0m, in \u001b[0;36m_UnaryUnaryMultiCallable.__call__\u001b[1;34m(self, request, timeout, metadata, credentials, wait_for_ready, compression)\u001b[0m\n\u001b[0;32m   1166\u001b[0m \u001b[38;5;28;01mdef\u001b[39;00m \u001b[38;5;21m__call__\u001b[39m(\n\u001b[0;32m   1167\u001b[0m     \u001b[38;5;28mself\u001b[39m,\n\u001b[0;32m   1168\u001b[0m     request: Any,\n\u001b[1;32m   (...)\u001b[0m\n\u001b[0;32m   1173\u001b[0m     compression: Optional[grpc\u001b[38;5;241m.\u001b[39mCompression] \u001b[38;5;241m=\u001b[39m \u001b[38;5;28;01mNone\u001b[39;00m,\n\u001b[0;32m   1174\u001b[0m ) \u001b[38;5;241m-\u001b[39m\u001b[38;5;241m>\u001b[39m Any:\n\u001b[0;32m   1175\u001b[0m     (\n\u001b[0;32m   1176\u001b[0m         state,\n\u001b[0;32m   1177\u001b[0m         call,\n\u001b[1;32m-> 1178\u001b[0m     ) \u001b[38;5;241m=\u001b[39m \u001b[38;5;28;43mself\u001b[39;49m\u001b[38;5;241;43m.\u001b[39;49m\u001b[43m_blocking\u001b[49m\u001b[43m(\u001b[49m\n\u001b[0;32m   1179\u001b[0m \u001b[43m        \u001b[49m\u001b[43mrequest\u001b[49m\u001b[43m,\u001b[49m\u001b[43m \u001b[49m\u001b[43mtimeout\u001b[49m\u001b[43m,\u001b[49m\u001b[43m \u001b[49m\u001b[43mmetadata\u001b[49m\u001b[43m,\u001b[49m\u001b[43m \u001b[49m\u001b[43mcredentials\u001b[49m\u001b[43m,\u001b[49m\u001b[43m \u001b[49m\u001b[43mwait_for_ready\u001b[49m\u001b[43m,\u001b[49m\u001b[43m \u001b[49m\u001b[43mcompression\u001b[49m\n\u001b[0;32m   1180\u001b[0m \u001b[43m    \u001b[49m\u001b[43m)\u001b[49m\n\u001b[0;32m   1181\u001b[0m     \u001b[38;5;28;01mreturn\u001b[39;00m _end_unary_response_blocking(state, call, \u001b[38;5;28;01mFalse\u001b[39;00m, \u001b[38;5;28;01mNone\u001b[39;00m)\n",
      "File \u001b[1;32mc:\\Users\\ASUS\\Documents\\GitHub\\Physio-Chatbot\\physioenv\\Lib\\site-packages\\grpc\\_channel.py:1162\u001b[0m, in \u001b[0;36m_UnaryUnaryMultiCallable._blocking\u001b[1;34m(self, request, timeout, metadata, credentials, wait_for_ready, compression)\u001b[0m\n\u001b[0;32m   1145\u001b[0m state\u001b[38;5;241m.\u001b[39mtarget \u001b[38;5;241m=\u001b[39m _common\u001b[38;5;241m.\u001b[39mdecode(\u001b[38;5;28mself\u001b[39m\u001b[38;5;241m.\u001b[39m_target)\n\u001b[0;32m   1146\u001b[0m call \u001b[38;5;241m=\u001b[39m \u001b[38;5;28mself\u001b[39m\u001b[38;5;241m.\u001b[39m_channel\u001b[38;5;241m.\u001b[39msegregated_call(\n\u001b[0;32m   1147\u001b[0m     cygrpc\u001b[38;5;241m.\u001b[39mPropagationConstants\u001b[38;5;241m.\u001b[39mGRPC_PROPAGATE_DEFAULTS,\n\u001b[0;32m   1148\u001b[0m     \u001b[38;5;28mself\u001b[39m\u001b[38;5;241m.\u001b[39m_method,\n\u001b[1;32m   (...)\u001b[0m\n\u001b[0;32m   1160\u001b[0m     \u001b[38;5;28mself\u001b[39m\u001b[38;5;241m.\u001b[39m_registered_call_handle,\n\u001b[0;32m   1161\u001b[0m )\n\u001b[1;32m-> 1162\u001b[0m event \u001b[38;5;241m=\u001b[39m \u001b[43mcall\u001b[49m\u001b[38;5;241;43m.\u001b[39;49m\u001b[43mnext_event\u001b[49m\u001b[43m(\u001b[49m\u001b[43m)\u001b[49m\n\u001b[0;32m   1163\u001b[0m _handle_event(event, state, \u001b[38;5;28mself\u001b[39m\u001b[38;5;241m.\u001b[39m_response_deserializer)\n\u001b[0;32m   1164\u001b[0m \u001b[38;5;28;01mreturn\u001b[39;00m state, call\n",
      "File \u001b[1;32msrc\\\\python\\\\grpcio\\\\grpc\\\\_cython\\\\_cygrpc/channel.pyx.pxi:388\u001b[0m, in \u001b[0;36mgrpc._cython.cygrpc.SegregatedCall.next_event\u001b[1;34m()\u001b[0m\n",
      "File \u001b[1;32msrc\\\\python\\\\grpcio\\\\grpc\\\\_cython\\\\_cygrpc/channel.pyx.pxi:211\u001b[0m, in \u001b[0;36mgrpc._cython.cygrpc._next_call_event\u001b[1;34m()\u001b[0m\n",
      "File \u001b[1;32msrc\\\\python\\\\grpcio\\\\grpc\\\\_cython\\\\_cygrpc/channel.pyx.pxi:205\u001b[0m, in \u001b[0;36mgrpc._cython.cygrpc._next_call_event\u001b[1;34m()\u001b[0m\n",
      "File \u001b[1;32msrc\\\\python\\\\grpcio\\\\grpc\\\\_cython\\\\_cygrpc/completion_queue.pyx.pxi:78\u001b[0m, in \u001b[0;36mgrpc._cython.cygrpc._latent_event\u001b[1;34m()\u001b[0m\n",
      "File \u001b[1;32msrc\\\\python\\\\grpcio\\\\grpc\\\\_cython\\\\_cygrpc/completion_queue.pyx.pxi:61\u001b[0m, in \u001b[0;36mgrpc._cython.cygrpc._internal_latent_event\u001b[1;34m()\u001b[0m\n",
      "File \u001b[1;32msrc\\\\python\\\\grpcio\\\\grpc\\\\_cython\\\\_cygrpc/completion_queue.pyx.pxi:42\u001b[0m, in \u001b[0;36mgrpc._cython.cygrpc._next\u001b[1;34m()\u001b[0m\n",
      "\u001b[1;31mKeyboardInterrupt\u001b[0m: "
     ]
    }
   ],
   "source": [
    "embedded_chunks=generate_gemini_embeddings(splitted_chunks)"
   ]
  },
  {
   "cell_type": "code",
   "execution_count": 10,
   "metadata": {},
   "outputs": [],
   "source": [
    "load_dotenv()\n",
    "papi_key = os.getenv(\"PINECONE_API_KEY\")"
   ]
  },
  {
   "cell_type": "code",
   "execution_count": 11,
   "metadata": {},
   "outputs": [],
   "source": [
    "from pinecone import Pinecone, ServerlessSpec\n",
    "\n",
    "# Initialize Pinecone\n",
    "pc = Pinecone(api_key=papi_key)\n",
    "\n",
    "index = pc.Index(\"physio\")"
   ]
  },
  {
   "cell_type": "code",
   "execution_count": 13,
   "metadata": {},
   "outputs": [
    {
     "ename": "NameError",
     "evalue": "name 'embedded_chunks' is not defined",
     "output_type": "error",
     "traceback": [
      "\u001b[1;31m---------------------------------------------------------------------------\u001b[0m",
      "\u001b[1;31mNameError\u001b[0m                                 Traceback (most recent call last)",
      "Cell \u001b[1;32mIn[13], line 20\u001b[0m\n\u001b[0;32m     17\u001b[0m             vectors \u001b[38;5;241m=\u001b[39m []  \u001b[38;5;66;03m# Clear the list after each batch\u001b[39;00m\n\u001b[0;32m     19\u001b[0m \u001b[38;5;66;03m# Call the function to upsert embeddings in batches\u001b[39;00m\n\u001b[1;32m---> 20\u001b[0m upsert_embeddings_in_batches(splitted_chunks, \u001b[43membedded_chunks\u001b[49m, batch_size\u001b[38;5;241m=\u001b[39m\u001b[38;5;241m100\u001b[39m)\n",
      "\u001b[1;31mNameError\u001b[0m: name 'embedded_chunks' is not defined"
     ]
    }
   ],
   "source": [
    "def upsert_embeddings_in_batches(text_chunks, embeddings, batch_size=100):\n",
    "    vectors = []\n",
    "    \n",
    "    for i, embedding in enumerate(embeddings):\n",
    "        # Create metadata for each chunk\n",
    "        metadata = {\"text\": text_chunks[i], \"source\": \"your_document_source\"}\n",
    "        vector = {\n",
    "            \"id\": f\"vec{i}\",  # Unique ID for each vector\n",
    "            \"values\": embedding,  # The embedding values\n",
    "            \"metadata\": metadata  # Metadata for the chunk\n",
    "        }\n",
    "        vectors.append(vector)\n",
    "        \n",
    "        # Batch upsert every `batch_size` chunks\n",
    "        if (i + 1) % batch_size == 0 or (i + 1) == len(embeddings):\n",
    "            index.upsert(vectors=vectors, namespace=\"ns1\")\n",
    "            vectors = []  # Clear the list after each batch\n",
    "\n",
    "# Call the function to upsert embeddings in batches\n",
    "upsert_embeddings_in_batches(splitted_chunks, embedded_chunks, batch_size=100)"
   ]
  },
  {
   "cell_type": "code",
   "execution_count": 12,
   "metadata": {},
   "outputs": [],
   "source": [
    "def generate_query_embedding(query):\n",
    "    response = genai.embed_content(\n",
    "        model=\"models/text-embedding-004\",  # Gemini Pro embedding model\n",
    "        content=query\n",
    "    )\n",
    "    \n",
    "    # Extract and return the embedding from the response\n",
    "    if 'embedding' in response:\n",
    "        return response['embedding']\n",
    "    else:\n",
    "        raise ValueError(f\"Failed to generate embeddings for query: {query}\")"
   ]
  },
  {
   "cell_type": "code",
   "execution_count": 13,
   "metadata": {},
   "outputs": [],
   "source": [
    "def retrieve_relevant_chunks(query_embedding):\n",
    "    # Search Pinecone index using the query embedding\n",
    "    query_response = index.query(\n",
    "    vector=query_embedding,\n",
    "    top_k=10,\n",
    "    include_metadata=True,\n",
    "    namespace=\"ns1\"\n",
    ")\n",
    "    \n",
    "    # Extract relevant chunks from the Pinecone response\n",
    "    retrieved_chunks = [match['metadata']['text'] for match in query_response['matches']]\n",
    "    return retrieved_chunks"
   ]
  },
  {
   "cell_type": "code",
   "execution_count": 14,
   "metadata": {},
   "outputs": [
    {
     "name": "stdout",
     "output_type": "stream",
     "text": [
      "['355\\nSymptoms of Coronary Heart\\nDisease\\nAn angina attack is characterised by the sensation of\\nsevere pain and heaviness or tightness behind the ster-\\nnum. Pain radiating to the arms, neck, jaw, back or\\nstomach is also common. One of the more common\\ncauses of angina is physical activity, particularly after a\\nlarge meal. However, sufferers can also get an attack\\nduring other forms of stress, or even whilst resting or\\nasleep.\\nUnlike a transient ischaemic attack (TIA), a myocar-\\ndial infarction', 'tightness, dryness or irritation in the upper respiratory\\ntract. Attacks tend to be episodic, often occurring sev-\\neral times a year. Their duration varies from a few sec-\\nonds to many months and the severity may be anything\\nfrom mild wheezing to great distress. The most pre-\\ndominant features are summarised below.\\nWheeze and dyspnoea\\nDyspnoea may be intense and chiefly occurs on expira-\\ntion, which becomes a conscious exhausting effort with', 'and tendon jerks, probably due to loss of\\ninhibitory influences on the alphamotor\\nneurones (Mense et al. 2001).\\n• \\nMuscle tension. An increase in resistance to\\npassive movement of a joint.\\n• \\nMuscle tone. The resting tension of a mus-\\ncle, clinically determined as resistance to\\npassive movement or to deformation.\\n• \\nMyalgia. Pain felt within a muscle.\\n• \\nProprioception. The specialised variation of\\nthe sensory modality of touch that encom-\\npasses the sensation of joint movement', 'the symptom they are most concerned with.\\nPerceptual disturbances\\nThis is a non-specific term that describes the way in\\nwhich the individual perceives sensory information.\\nPerception requires the interaction of visual and spatial\\ncomponents. Types of perceptual disturbance include\\ndisruption in figure-ground differentiation, spatial\\nawareness, inattention or neglect, disturbances in con-\\nstructional abilities, and many other forms.\\nVisual disturbances', 'the heart may become apparent only under stressful\\nsituations. Symptoms such as fatigue and weakness are\\ngenerally related to poor perfusion of active muscles\\nduring exercise following a decline of cardiac output.\\nDifficulty in breathing during exertion may also occur,\\nbut pulmonary oedema is not usually present. Other\\nmanifestations of a reduced cardiac performance and\\nlow output state include sinus tachycardia, light-head-\\nedness or fainting (syncope), mental confusion, and\\ncool pallid skin.', '(hypertonia) or decreased (hypotonia).\\nFurther reading\\nReaders are referred to Edwards (2002)\\nfor a detailed account of abnormal\\nmuscle tone.\\nSensory disturbances\\nDisturbances in cutaneous sensation result from a dis-\\nruption in afferent information. This can be classified\\nas paraesthesia or anaesthesia where there is dimin-\\nished or absent afferent information. An increase in\\ncutaneous sensitivity is termed hyperaesthesia and can\\nbe an equally troublesome feature. The presentation', 'newly acquired or diagnosed condition.\\nmotivation. Emotional changes can present in the form\\nof emotional lability, depression or euphoria.\\nPhysical dysfunction\\nSmooth and efficient movement is reliant upon intact\\nsensory and motor pathways. Any disruption to these\\npathways will lead to movement disorders.\\nIncoordination of movement\\nWeakness or paralysis of muscle groups will result in an\\nimbalance of activity and therefore incoordination of\\nmovement.\\nAtaxia', 'domly throughout the body. The absence of sustained\\nabnormal posturing distinguishes this condition from\\ndystonia.\\nBallismus\\nThe movements are large and sudden and can affect\\none side of the body (hemiballismus).\\nTremor\\nThese are fine, rapidly oscillating, unwanted move-\\nments. Tremors are often classified in relation to the\\ncircumstances in which they occur. For example an\\nintention tremor is made worse by voluntary move-\\nment of the limb, particularly at the end of a move-', 'may or may not have diagnosed heart\\ndisease. Death occurs instantly or shortly after\\nsymptoms appear.\\nWhen the pumping ability of the heart is dimin-\\nished, systolic blood pressure drops, and the sympa-\\nthetic nervous system is activated, leading to peripheral\\nvasoconstriction and tachycardia with the aim of main-\\ntaining arterial pressure and coronary and cerebral per-\\nfusion. The net effect increases the load on the heart\\nand this may result in a fatal shock state.', 'may then lack the strength to circulate an adequate vol-\\nume of blood, fainting (syncope) can occur.\\nThe important difference between myocardial\\ninfarction and angina is that the MI pain lasts for a\\nmuch longer period, at least 15-30 minutes, and some-\\ntimes for several hours or perhaps for a day. A heart\\nattack may also be complicated by the appearance of\\none or more cardiac arrhythmias.\\nThe severity of the symptoms of MI vary. Often\\nthere is severe pain and collapse, but sometimes a heart']\n"
     ]
    }
   ],
   "source": [
    "def query_and_retrieve(query):\n",
    "    # Step 1: Generate the embedding for the query\n",
    "    query_embedding = generate_query_embedding(query)\n",
    "    \n",
    "    # Step 2: Retrieve relevant chunks using the generated embedding\n",
    "    retrieved_texts = retrieve_relevant_chunks(query_embedding)\n",
    "    \n",
    "    # Step 3: Return the retrieved texts\n",
    "    return retrieved_texts\n",
    "\n",
    "# Example Usage\n",
    "query = \"What are the symptoms of anxiety?\"\n",
    "retrieved_texts = query_and_retrieve(query)\n",
    "\n",
    "print(retrieved_texts)"
   ]
  },
  {
   "cell_type": "code",
   "execution_count": 15,
   "metadata": {},
   "outputs": [],
   "source": [
    "# Function to use Gemini Pro LLM to generate the final answer\n",
    "def generate_answer_with_gemini(query, retrieved_chunks):\n",
    "    # Combine the retrieved chunks into a single context\n",
    "    context = \"\\n\".join(retrieved_chunks)\n",
    "\n",
    "    # Crafting the prompt for PhysioBot\n",
    "    prompt = f\"\"\"\n",
    "    You are a PhysioBOT and you have been asked to provide information from the sources you have read : {context}\n",
    "    A user asks you: \"{query}\"\n",
    "    you must answer in a very friendly and informative way and you must provide the answer in detail and in a way that is easy to understand.\n",
    "    Based on your knowledge, you provide the following answer:\n",
    "    \"\"\"\n",
    "\n",
    "    model = genai.GenerativeModel('gemini-pro')\n",
    "    response = model.generate_content([prompt])\n",
    "    return response.text\n"
   ]
  },
  {
   "cell_type": "code",
   "execution_count": 16,
   "metadata": {},
   "outputs": [
    {
     "name": "stdout",
     "output_type": "stream",
     "text": [
      "Step 1: Embedding the query...\n",
      "Step 1 complete.\n",
      "Step 2: Retrieving relevant chunks from Pinecone...\n",
      "['the limb is able to move freely in space (e.g.\\na biceps curl with a free weight).\\n• \\nMuscle contracture. The adaptive shorten-\\ning of muscle or other soft tissues that cross\\na joint, which results in limitation of range\\nof motion (Kisner and Colby 1996).\\n• \\nMuscle spasm. A persistent muscle contrac-\\ntion that cannot be voluntarily released.\\n• \\nMuscle spasticity. A condition associated\\nwith hyperactivity of the stretch reflexes\\nand tendon jerks, probably due to loss of', \"not provide an adequate muscle pump on the veins,\\nin which case swelling may reappear especially after\\nactivity or non-elevation.\\nMuscle spasm\\nMuscle spasm is an attempt by the body to stop things\\nfrom moving. It often affects powerful muscle groups\\nsuch as the quadriceps and may cause displacement or\\noverriding of the bone ends. Traction may be needed to\\ncounteract this.\\n74\\nTidy's Physiotherapy\\nAbnormal movement/ere pit us\\nThere may be grating between the broken ends of the\", 'logical cause. Prolonged spasm causes pain due to\\nmetabolite accumulation, and fatigue itself may limit\\njoint movement. It may also interfere with sleep. Adaptive\\nshortening of muscles may also occur (e.g. hamstrings if\\nthe knee is held in flexion for prolonged periods).\\nStiffness (articular gelling)\\nStiffness refers to the impairment of quality of move-\\nment, not quantity. Stiffness is present after rest and\\ntakes a little time to wear off with movement. It may be', 'Joint Surg 47B: 678-85\\nGluck NI, Liebenson CS 1997 Clinical implications of para-\\ndoxical muscle function in muscle stretching or strength-\\nening. J Bodywork Mov Ther 1: 219-22\\nGralton E, Wildgoose J, Donovan WM, Wilkie J 1998\\nEccentric exercise and neuroleptic malignment syndrome.\\nLancet 352: 1114\\n503\\nHarvey LA, Herbert RD 2002 Muscle stretching for treatment\\nand prevention of contracture in people with spinal cord\\ninjury. Spinal Cord 40(1): 1-9', 'joint muscles.\\n• \\nMake the stretch slow and sustained - do\\nnot bounce.\\n• \\nThe patient should experience a pulling\\nsensation, not pain.\\n• \\nHold the position for 30 seconds.\\n• \\nIf tension releases, take the movement a\\nlittle further.\\n• \\nRelease slowly.\\nAfter the stretch\\n• \\nWarn the patient what feelings to expect\\nfollowing the stretch.\\n• \\nRemember that once movement has been\\nregained, active muscle control throughout\\nthat range will be needed as well as some', \"The spinal level involved may be tender on palpa-\\ntion, with local muscle spasm. The muscles themselves\\nwill becomes painful if they have been in a state of\\nspasm for a long period. Palpation over the lumbar\\nspine provokes tenderness and when pressure is\\napplied can increase the spasm.\\nSharp pain in the back can arise suddenly because of\\nbending, sneezing, twisting or lifting. Classically, the\\npatient is unable to straighten up and is 'stuck' - often\", 'and adductors, hamstrings and gastrocnemius. Much\\nof the stiffness that patients experience is due to mus-\\ncle tension. Stretching the muscles, tendons and liga-\\nments allows more joint movement to occur and\\nimproves posture.\\nThe contract-relax method of stretching is com-\\nmonly used (Bulstrode et al. 1987). This involves a\\nmaximal isometric contraction for 3 seconds made in\\nthe position of maximum stretch of the muscle, fol-\\nlowed by a relaxation of 2 seconds and a further passive', \"only method that will work. The person will then think\\na lamp has to be purchased for home use. Many\\n258\\nTidy's Physiotherapy\\npatients are willing to spend a great deal of money on\\nseeking the latest gadgets. Patients should be encour-\\naged to think realistically and be selective and rational\\nin their purchases. Advice from all the allied health pro-\\nfessionals is important for this.\\nHeat can increase the circulation to the heated area\\nand assist in the reduction of muscle spasm. This can\", \"the effects of spasticity and referral for further\\ninvestigations depending upon the presenting symp-\\ntoms. For example an ultrasound scan of the bladder\\nmay be needed to establish incomplete voiding of the\\nbladder.\\nPhysiotherapy management\\nThe key to any successful intervention is a comprehen-\\nsive and ongoing assessment of the person's difficulties\\nand needs. A coordinated interdisciplinary approach is\\nalso crucial if the condition is to be managed effectively\", \"• Refer to a dietitian/advise re diet.\\n• Attend osteoporosis group treatment and education\\nprogramme.\\n• Recommence leisure activities.\\nMs S's Treatment\\nMs S needed pain control and to quickly regain some\\nextensor muscle strength. On her first visit she was\\nadvised about the use of heat to ease muscle spasm and\\ngiven a lumbar support using a towel. In a later session\\nshe was advised about products available on the mar-\\nket. She was given gentle lumbar rotations to relieve\"]\n",
      "Step 2 complete.\n",
      "Step 3: Generating an answer using Gemini Pro LLM...\n",
      "Step 3 complete.\n",
      "\n",
      "Physio-BOT's Answer:\n",
      "Muscle spasms are involuntary muscle contractions that can cause severe pain and discomfort. They can be caused by a variety of factors, including dehydration, electrolyte imbalance, muscle strain, and nerve damage. There are a number of different ways to treat muscle spasms, including:\n",
      "\n",
      "    1. Rest: One of the best ways to treat muscle spasms is to rest the affected muscle. This will help to reduce inflammation and pain.\n",
      "    2. Ice: Applying ice to the affected muscle can help to reduce inflammation and pain. Ice packs can be applied for 15-20 minutes at a time, several times a day.\n",
      "    3. Heat: Applying heat to the affected muscle can help to relax the muscles and relieve pain. Heat packs can be applied for 15-20 minutes at a time, several times a day.\n",
      "    4. Massage: Massaging the affected muscle can help to relax the muscles and relieve pain. Massage can be done by a physical therapist or at home.\n",
      "    5. Stretching: Stretching the affected muscle can help to prevent spasms from recurring. Stretching should be done gently and slowly, and should not cause pain.\n",
      "    6. Medication: In some cases, medication may be necessary to treat muscle spasms. Medications that are commonly used to treat muscle spasms include muscle relaxants, pain relievers, and anti-inflammatory drugs.\n",
      "\n",
      "    If you are experiencing muscle spasms, it is important to see a doctor to rule out any underlying medical conditions. Once any underlying medical conditions have been ruled out, you can try some of the home remedies listed above to relieve your symptoms.\n"
     ]
    }
   ],
   "source": [
    "# Main function to handle user input and process the query through Physio-BOT\n",
    "def main():\n",
    "    # Prompt user for input\n",
    "    query = input(\"What would you like to ask Physio-BOT? \")\n",
    "\n",
    "    print(\"Step 1: Embedding the query...\")\n",
    "    # Step 1: Embed the query using Gemini Pro\n",
    "    query_embedding = generate_query_embedding(query)\n",
    "    print(\"Step 1 complete.\")\n",
    "\n",
    "    print(\"Step 2: Retrieving relevant chunks from Pinecone...\")\n",
    "    # Step 2: Retrieve relevant chunks from Pinecone based on query embedding\n",
    "    retrieved_chunks = retrieve_relevant_chunks(query_embedding)\n",
    "    print(retrieved_chunks)\n",
    "    print(\"Step 2 complete.\")\n",
    "\n",
    "    print(\"Step 3: Generating an answer using Gemini Pro LLM...\")\n",
    "    # Step 3: Generate an answer using Gemini Pro LLM with the retrieved chunks\n",
    "    answer = generate_answer_with_gemini(query, retrieved_chunks)\n",
    "    print(\"Step 3 complete.\")\n",
    "\n",
    "\n",
    "    # Display the final answer to the user\n",
    "    print(\"\\nPhysio-BOT's Answer:\")\n",
    "    print(answer)\n",
    "\n",
    "# Run the main function\n",
    "if __name__ == \"__main__\":\n",
    "    main()"
   ]
  }
 ],
 "metadata": {
  "kernelspec": {
   "display_name": "physioenv",
   "language": "python",
   "name": "python3"
  },
  "language_info": {
   "codemirror_mode": {
    "name": "ipython",
    "version": 3
   },
   "file_extension": ".py",
   "mimetype": "text/x-python",
   "name": "python",
   "nbconvert_exporter": "python",
   "pygments_lexer": "ipython3",
   "version": "3.12.5"
  }
 },
 "nbformat": 4,
 "nbformat_minor": 2
}
