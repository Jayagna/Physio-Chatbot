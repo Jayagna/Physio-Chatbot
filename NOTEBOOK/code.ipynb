{
 "cells": [
  {
   "cell_type": "code",
   "execution_count": 3,
   "metadata": {},
   "outputs": [
    {
     "name": "stderr",
     "output_type": "stream",
     "text": [
      "c:\\Users\\ASUS\\Documents\\GitHub\\Physio-Chatbot\\physioenv\\Lib\\site-packages\\tqdm\\auto.py:21: TqdmWarning: IProgress not found. Please update jupyter and ipywidgets. See https://ipywidgets.readthedocs.io/en/stable/user_install.html\n",
      "  from .autonotebook import tqdm as notebook_tqdm\n"
     ]
    }
   ],
   "source": [
    "import streamlit as st\n",
    "import google.generativeai as genai"
   ]
  },
  {
   "cell_type": "code",
   "execution_count": 49,
   "metadata": {},
   "outputs": [],
   "source": [
    "from dotenv import load_dotenv\n",
    "import os\n",
    "load_dotenv()\n",
    "# CONFIGURING GENAI KEY\n",
    "api_key=os.getenv(\"GOOGLE_API_KEY\")\n",
    "genai.configure(api_key=api_key)"
   ]
  },
  {
   "cell_type": "code",
   "execution_count": 6,
   "metadata": {},
   "outputs": [],
   "source": [
    "import fitz\n",
    "# Function to extract text from a PDF\n",
    "def extract_text_from_pdf(pdf_path):\n",
    "    doc = fitz.open(pdf_path)\n",
    "    text = \"\"\n",
    "    for page in doc:\n",
    "        text += page.get_text()\n",
    "    return text"
   ]
  },
  {
   "cell_type": "code",
   "execution_count": 7,
   "metadata": {},
   "outputs": [],
   "source": [
    "extracted_data = extract_text_from_pdf(r\"C:\\Users\\ASUS\\Documents\\GitHub\\Physio-Chatbot\\Sources\\Tidy's Physiotherapy.pdf\")"
   ]
  },
  {
   "cell_type": "code",
   "execution_count": 8,
   "metadata": {},
   "outputs": [],
   "source": [
    "from langchain_text_splitters import RecursiveCharacterTextSplitter\n",
    "# Function to split the extracted text into chunks\n",
    "def split_text_into_chunks(text):\n",
    "    text_splitter = RecursiveCharacterTextSplitter(chunk_size=500, chunk_overlap=50)\n",
    "    chunks = text_splitter.split_text(text)\n",
    "    return chunks"
   ]
  },
  {
   "cell_type": "code",
   "execution_count": 9,
   "metadata": {},
   "outputs": [],
   "source": [
    "splitted_chunks=split_text_into_chunks(extracted_data)"
   ]
  },
  {
   "cell_type": "code",
   "execution_count": 10,
   "metadata": {},
   "outputs": [
    {
     "name": "stdout",
     "output_type": "stream",
     "text": [
      "Chunk 0: Tidy's Physiotherapy\n",
      "Dedication\n",
      "To all the physiotherapy students, who have taught me so much.\n",
      "I tha\n",
      "Chunk 1: Manchester\n",
      "UK\n",
      "Honorary Research Fellow\n",
      "Wrightington Wigan and Leigh NHS Trust\n",
      "Wigan\n",
      "Lancashire\n",
      "UK\n",
      "B \n",
      "Chunk 2: or by any means, electronic, mechanical, photocopying, recording or otherwise, without either the pr\n",
      "Chunk 3: complete your request on-line via the Elsevier Science homepage (http://www.elsevier.com), by select\n",
      "Chunk 4: Notice\n",
      "Medical knowledge is constantly changing. Standard safety precautions must be followed, but a\n"
     ]
    }
   ],
   "source": [
    "for i, chunk in enumerate(splitted_chunks[:5]):\n",
    "    print(f\"Chunk {i}: {chunk[:100]}\") "
   ]
  },
  {
   "cell_type": "code",
   "execution_count": 11,
   "metadata": {},
   "outputs": [],
   "source": [
    "def generate_gemini_embeddings(chunks):\n",
    "    embeddings = []\n",
    "    for chunk in chunks:\n",
    "        if chunk.strip():  # Ensure the chunk is not empty\n",
    "            response = genai.embed_content(\n",
    "                model=\"models/text-embedding-004\",  # Gemini Pro embedding model\n",
    "                content=chunk\n",
    "            )\n",
    "            \n",
    "            # Now we directly access 'embedding' as it contains the values directly\n",
    "            if isinstance(response, dict) and 'embedding' in response:\n",
    "                embeddings.append(response['embedding'])  # Append the embedding directly\n",
    "    return embeddings"
   ]
  },
  {
   "cell_type": "code",
   "execution_count": 12,
   "metadata": {},
   "outputs": [],
   "source": [
    "embedded_chunks=generate_gemini_embeddings(splitted_chunks)"
   ]
  },
  {
   "cell_type": "code",
   "execution_count": 47,
   "metadata": {},
   "outputs": [],
   "source": [
    "load_dotenv()\n",
    "papi_key = os.getenv(\"PINECONE_API_KEY\")"
   ]
  },
  {
   "cell_type": "code",
   "execution_count": 21,
   "metadata": {},
   "outputs": [],
   "source": [
    "from pinecone import Pinecone, ServerlessSpec\n",
    "\n",
    "# Initialize Pinecone\n",
    "pc = Pinecone(api_key=papi_key)\n",
    "\n",
    "index = pc.Index(\"physio\")"
   ]
  },
  {
   "cell_type": "code",
   "execution_count": 23,
   "metadata": {},
   "outputs": [],
   "source": [
    "def upsert_embeddings_in_batches(text_chunks, embeddings, batch_size=100):\n",
    "    vectors = []\n",
    "    \n",
    "    for i, embedding in enumerate(embeddings):\n",
    "        # Create metadata for each chunk\n",
    "        metadata = {\"text\": text_chunks[i], \"source\": \"your_document_source\"}\n",
    "        vector = {\n",
    "            \"id\": f\"vec{i}\",  # Unique ID for each vector\n",
    "            \"values\": embedding,  # The embedding values\n",
    "            \"metadata\": metadata  # Metadata for the chunk\n",
    "        }\n",
    "        vectors.append(vector)\n",
    "        \n",
    "        # Batch upsert every `batch_size` chunks\n",
    "        if (i + 1) % batch_size == 0 or (i + 1) == len(embeddings):\n",
    "            index.upsert(vectors=vectors, namespace=\"ns1\")\n",
    "            vectors = []  # Clear the list after each batch\n",
    "\n",
    "# Call the function to upsert embeddings in batches\n",
    "upsert_embeddings_in_batches(splitted_chunks, embedded_chunks, batch_size=100)"
   ]
  },
  {
   "cell_type": "code",
   "execution_count": 24,
   "metadata": {},
   "outputs": [],
   "source": [
    "def generate_query_embedding(query):\n",
    "    response = genai.embed_content(\n",
    "        model=\"models/text-embedding-004\",  # Gemini Pro embedding model\n",
    "        content=query\n",
    "    )\n",
    "    \n",
    "    # Extract and return the embedding from the response\n",
    "    if 'embedding' in response:\n",
    "        return response['embedding']\n",
    "    else:\n",
    "        raise ValueError(f\"Failed to generate embeddings for query: {query}\")"
   ]
  },
  {
   "cell_type": "code",
   "execution_count": 40,
   "metadata": {},
   "outputs": [],
   "source": [
    "def retrieve_relevant_chunks(query_embedding):\n",
    "    # Search Pinecone index using the query embedding\n",
    "    query_response = index.query(\n",
    "    vector=query_embedding,\n",
    "    top_k=10,\n",
    "    include_metadata=True,\n",
    "    namespace=\"ns1\"\n",
    ")\n",
    "    \n",
    "    # Extract relevant chunks from the Pinecone response\n",
    "    retrieved_chunks = [match['metadata']['text'] for match in query_response['matches']]\n",
    "    return retrieved_chunks"
   ]
  },
  {
   "cell_type": "code",
   "execution_count": 35,
   "metadata": {},
   "outputs": [
    {
     "name": "stdout",
     "output_type": "stream",
     "text": [
      "[]\n"
     ]
    }
   ],
   "source": [
    "def query_and_retrieve(query):\n",
    "    # Step 1: Generate the embedding for the query\n",
    "    query_embedding = generate_query_embedding(query)\n",
    "    \n",
    "    # Step 2: Retrieve relevant chunks using the generated embedding\n",
    "    retrieved_texts = retrieve_relevant_chunks(query_embedding)\n",
    "    \n",
    "    # Step 3: Return the retrieved texts\n",
    "    return retrieved_texts\n",
    "\n",
    "# Example Usage\n",
    "query = \"What are the symptoms of anxiety?\"\n",
    "retrieved_texts = query_and_retrieve(query)\n",
    "\n",
    "print(retrieved_texts)"
   ]
  },
  {
   "cell_type": "code",
   "execution_count": 38,
   "metadata": {},
   "outputs": [],
   "source": [
    "# Function to use Gemini Pro LLM to generate the final answer\n",
    "def generate_answer_with_gemini(query, retrieved_chunks):\n",
    "    # Combine the retrieved chunks into a single context\n",
    "    context = \"\\n\".join(retrieved_chunks)\n",
    "\n",
    "    # Crafting the prompt for PhysioBot\n",
    "    prompt = f\"\"\"\n",
    "    You are a PhysioBOT and you have been asked to provide information from the sources you have read : {context}\n",
    "    A user asks you: \"{query}\"\n",
    "    you must answer in a very friendly and informative way and you must provide the answer in detail and in a way that is easy to understand.\n",
    "    Based on your knowledge, you provide the following answer:\n",
    "    \"\"\"\n",
    "\n",
    "    model = genai.GenerativeModel('gemini-pro')\n",
    "    response = model.generate_content([prompt])\n",
    "    return response.text\n"
   ]
  },
  {
   "cell_type": "code",
   "execution_count": 42,
   "metadata": {},
   "outputs": [
    {
     "name": "stdout",
     "output_type": "stream",
     "text": [
      "Step 1: Embedding the query...\n",
      "Step 1 complete.\n",
      "Step 2: Retrieving relevant chunks from Pinecone...\n",
      "['pain around the shoulder or scapula areas.\\nOverpressure may be used if the movements are\\npain-free. Furthermore, the upper limb tension\\ntest (ULTT) may be performed to rule out refer-\\nral of pain from neural structures. Refer to the\\nobjective assessment of the cervical spine for\\ndescriptions of these techniques.\\nActive movements\\nFull active movements of the shoulder girdle and joint\\nare performed, noting any restriction, asymmetry and\\npain response. Note the capsular pattern for the gleno-', 'in symptoms, then the glenohumeral joint is impli-\\ncated.\\n2. If the movement is repeated and a longitudinal force\\nin a cephalad direction is applied (increasing com-\\npression on the subacromial structures), with an\\nincrease in pain, the subacromial structures are\\nimplicated.\\nFailure to initiate or maintain abduction when placed\\npassively into abduction is a sign of rotator cuff\\nrupture, and the patient should be referred to a con-\\nsultant for a repair/further investigations.', 'sultant for a repair/further investigations.\\nShoulder joint rotation\\nTest medial and lateral rotations, both beside the trunk\\nand at 90 degrees of abduction. Note pain response and\\nlimitation of movement.\\nShoulder joint horizontal flexion and\\nextension (Scarf-test)\\nPain on these movements implicates the acromio-\\nclavicular joints as the source of pain or restriction.\\nShoulder joint extension\\nCompare both sides for range and pain response.\\nShoulder functional movements', \"loss of movement and function. Restriction of abduc-\\ntion and external rotation of the shoulder should be\\nsought from an early stage and monitored closely, and\\nthe patient's exercise programme modified accordingly\\nif the range of movement shows signs of deterioration.\\nA painful arc of movement of the shoulder joint sug-\\ngests tendonitis, which may, if diagnosed in its early\\nstages, respond to a local steroid injection. As always,\\naccurate localisation of the injection and skilled tech-\", 'degrees; internal and external rotation beside the trunk\\nand at 90 degrees of elevation in the plane of the\\nscapula; and resisted muscle testing in positions of\\nfunction and/or pain.\\nOther shoulder joint abnormalities\\nSporting activities that give rise to symptoms, such\\nas the late cocking stage of throwing a ball over-\\nhead, should also be assessed to determine faulty\\nmechanics.\\nMuscle length tests\\nIt may be useful to test the length of muscles that are', 'nique is essential.\\nPrecise diagnosis of the structures producing shoul-\\nder pain is often extremely difficult, and imaging with\\nultrasound or MRI can provide invaluable assistance in\\nidentifying the inflamed structure and informing the\\nchoice of appropriate therapy.\\nKey point\\nTendon rupture or partial tears\\nshould always be assessed by an\\northopaedic surgeon.\\nCervical spine\\nThe cervical spine is commonly affected in RA and the\\nconsequent effects of this on the spinal cord may lead\\n216', 'acromioclavicular and sternoclavicular joints, observ-\\ning for pain or tenderness. Palpate the supraspinatus\\nand infraspinatus tendons for tenderness associated\\nwith tendonitis, calcification and strain. Palpate the\\nupper trapezius and levator scapulae for tenderness\\nand trigger points. These hyperirritable areas within\\nthe muscle and connective tissue are thought to be due\\nto a secondary tissue response to disc or joint disorders\\n(Hubbard and Berkhoff 1993). They are painful to', 'activities. Pain is experienced between 90 and\\n130 degrees of abduction.\\nImpingement may be caused by loss of scapular\\nstability. Faulty patterns of scapula motion include\\nearly rotation and elevation of the scapula (reversed\\nscapulohumeral rhythm). This may implicate weakness\\nin the stabilisers (e.g. lower fibres of trapezius, rhom-\\nboids and serratus anterior), or shortness and overac-\\ntivity in the upper trapezius and levator scapulae.\\nImpingement may also be caused by weakness or', 'shoulder girdle.\\nFigure 2.36 The empty-can test position.\\nResistance to abduction is applied by the\\nTest Yourself\\nMatch these five scenarios to the likely pathology:\\n1. reduced range of movement particularly on active\\nand passive rotations and abduction\\n2. painful arc of movement between 90 and 120\\ndegrees\\n3. inability to actively abduct the arm away from the\\nbody and maintain the position when the arm is\\nplaced there passively\\n4. pain and weakness on resisted elbow and shoulder\\nflexion', 'cations - the change of bad postural habits. In this case\\nthe combination of manipulative therapy, corrective\\nexercises and advice was employed with success.\\nPERIPHERAL JOINT ASSESSMENTS\\nTHE SHOULDER JOINT\\nKey point\\nThe \\npatient \\nshould \\nbe \\nsuitably\\nundressed to view the cervical spine,\\nthoracic spine, shoulder girdles, shoul-\\nders and both arms.\\nPosture\\nIt is important to assess the posture of the cervical\\nand thoracic spine because a scoliosis, kyphosis or']\n",
      "Step 2 complete.\n",
      "Step 3: Generating an answer using Gemini Pro LLM...\n",
      "Step 3 complete.\n",
      "\n",
      "Physio-BOT's Answer:\n",
      "**Potential causes of pain around the shoulder or scapula areas:**\n",
      "\n",
      "* **Muscle strain or sprain:** This is the most common cause of shoulder pain. It can occur from overuse, injury, or poor posture.\n",
      "* **Tendonitis:** This is inflammation of a tendon, which is the tissue that connects muscle to bone. It can be caused by overuse, injury, or aging.\n",
      "* **Bursitis:** This is inflammation of a bursa, which is a fluid-filled sac that helps to reduce friction between bones and tendons. It can be caused by overuse, injury, or aging.\n",
      "* **Rotator cuff tear:** This is a tear in one or more of the four muscles that make up the rotator cuff, which is a group of muscles that helps to stabilize the shoulder joint. It can occur from overuse, injury, or aging.\n",
      "* **Frozen shoulder:** This is a condition in which the shoulder joint becomes stiff and painful. It can occur after an injury, surgery, or for no apparent reason.\n",
      "* **Cervical radiculopathy:** This is a condition in which a nerve in the neck becomes compressed, which can cause pain, numbness, and weakness in the shoulder and arm.\n",
      "* **Thoracic outlet syndrome:** This is a condition in which the nerves and blood vessels in the space between the collarbone and first rib become compressed, which can cause pain, numbness, and weakness in the shoulder and arm.\n",
      "\n",
      "**Treatment for pain around the shoulder or scapula areas:**\n",
      "\n",
      "The treatment for shoulder pain will depend on the underlying cause. Some common treatments include:\n",
      "\n",
      "* **Rest:** Resting the shoulder can help to reduce pain and inflammation.\n",
      "* **Ice:** Applying ice to the shoulder can help to reduce pain and swelling.\n",
      "* **Heat:** Applying heat to the shoulder can help to relax muscles and relieve pain.\n",
      "* **Physical therapy:** Physical therapy can help to improve range of motion, strength, and flexibility in the shoulder.\n",
      "* **Medication:** Over-the-counter pain relievers, such as ibuprofen or acetaminophen, can help to reduce pain.\n",
      "* **Corticosteroid injections:** Corticosteroid injections can help to reduce inflammation and pain.\n",
      "* **Surgery:** Surgery may be necessary to repair a torn rotator cuff or to relieve pressure on a nerve.\n",
      "\n",
      "If you are experiencing pain around your shoulder or scapula, it is important to see a doctor to determine the underlying cause and to receive appropriate treatment.\n"
     ]
    }
   ],
   "source": [
    "# Main function to handle user input and process the query through Physio-BOT\n",
    "def main():\n",
    "    # Prompt user for input\n",
    "    query = input(\"What would you like to ask Physio-BOT? \")\n",
    "\n",
    "    print(\"Step 1: Embedding the query...\")\n",
    "    # Step 1: Embed the query using Gemini Pro\n",
    "    query_embedding = generate_query_embedding(query)\n",
    "    print(\"Step 1 complete.\")\n",
    "\n",
    "    print(\"Step 2: Retrieving relevant chunks from Pinecone...\")\n",
    "    # Step 2: Retrieve relevant chunks from Pinecone based on query embedding\n",
    "    retrieved_chunks = retrieve_relevant_chunks(query_embedding)\n",
    "    print(retrieved_chunks)\n",
    "    print(\"Step 2 complete.\")\n",
    "\n",
    "    print(\"Step 3: Generating an answer using Gemini Pro LLM...\")\n",
    "    # Step 3: Generate an answer using Gemini Pro LLM with the retrieved chunks\n",
    "    answer = generate_answer_with_gemini(query, retrieved_chunks)\n",
    "    print(\"Step 3 complete.\")\n",
    "\n",
    "\n",
    "    # Display the final answer to the user\n",
    "    print(\"\\nPhysio-BOT's Answer:\")\n",
    "    print(answer)\n",
    "\n",
    "# Run the main function\n",
    "if __name__ == \"__main__\":\n",
    "    main()"
   ]
  },
  {
   "cell_type": "code",
   "execution_count": 43,
   "metadata": {},
   "outputs": [
    {
     "name": "stderr",
     "output_type": "stream",
     "text": [
      "2024-12-29 03:57:15.421 WARNING streamlit.runtime.scriptrunner_utils.script_run_context: Thread 'MainThread': missing ScriptRunContext! This warning can be ignored when running in bare mode.\n",
      "2024-12-29 03:57:15.652 \n",
      "  \u001b[33m\u001b[1mWarning:\u001b[0m to view this Streamlit app on a browser, run it with the following\n",
      "  command:\n",
      "\n",
      "    streamlit run c:\\Users\\ASUS\\Documents\\GitHub\\Physio-Chatbot\\physioenv\\Lib\\site-packages\\ipykernel_launcher.py [ARGUMENTS]\n",
      "2024-12-29 03:57:15.654 Thread 'MainThread': missing ScriptRunContext! This warning can be ignored when running in bare mode.\n",
      "2024-12-29 03:57:15.655 Thread 'MainThread': missing ScriptRunContext! This warning can be ignored when running in bare mode.\n",
      "2024-12-29 03:57:15.657 Thread 'MainThread': missing ScriptRunContext! This warning can be ignored when running in bare mode.\n",
      "2024-12-29 03:57:15.658 Thread 'MainThread': missing ScriptRunContext! This warning can be ignored when running in bare mode.\n",
      "2024-12-29 03:57:15.659 Thread 'MainThread': missing ScriptRunContext! This warning can be ignored when running in bare mode.\n",
      "2024-12-29 03:57:15.660 Thread 'MainThread': missing ScriptRunContext! This warning can be ignored when running in bare mode.\n",
      "2024-12-29 03:57:15.661 Thread 'MainThread': missing ScriptRunContext! This warning can be ignored when running in bare mode.\n",
      "2024-12-29 03:57:15.662 Thread 'MainThread': missing ScriptRunContext! This warning can be ignored when running in bare mode.\n",
      "2024-12-29 03:57:15.662 Thread 'MainThread': missing ScriptRunContext! This warning can be ignored when running in bare mode.\n",
      "2024-12-29 03:57:15.664 Session state does not function when running a script without `streamlit run`\n",
      "2024-12-29 03:57:15.665 Thread 'MainThread': missing ScriptRunContext! This warning can be ignored when running in bare mode.\n",
      "2024-12-29 03:57:15.666 Thread 'MainThread': missing ScriptRunContext! This warning can be ignored when running in bare mode.\n",
      "2024-12-29 03:57:15.666 Thread 'MainThread': missing ScriptRunContext! This warning can be ignored when running in bare mode.\n",
      "2024-12-29 03:57:15.668 Thread 'MainThread': missing ScriptRunContext! This warning can be ignored when running in bare mode.\n",
      "2024-12-29 03:57:15.669 Thread 'MainThread': missing ScriptRunContext! This warning can be ignored when running in bare mode.\n",
      "2024-12-29 03:57:15.670 Thread 'MainThread': missing ScriptRunContext! This warning can be ignored when running in bare mode.\n",
      "2024-12-29 03:57:15.671 Thread 'MainThread': missing ScriptRunContext! This warning can be ignored when running in bare mode.\n"
     ]
    }
   ],
   "source": [
    "import streamlit as st\n",
    "import google.generativeai as genai\n",
    "import pinecone\n",
    "\n",
    "# --------------------------------------------------------------\n",
    "# If needed, configure your Google GenAI and Pinecone here:\n",
    "# e.g. \n",
    "# genai.configure(api_key=\"YOUR_GENAI_API_KEY\")\n",
    "# pinecone.init(api_key=\"YOUR_PINECONE_API_KEY\", environment=\"YOUR_PINECONE_ENV\")\n",
    "# index = pinecone.Index(\"YOUR_INDEX_NAME\")\n",
    "#\n",
    "# Also ensure that your custom functions below are imported or defined:\n",
    "#   1. generate_query_embedding(query)\n",
    "#   2. retrieve_relevant_chunks(query_embedding)\n",
    "#   3. generate_answer_with_gemini(query, retrieved_chunks)\n",
    "# --------------------------------------------------------------\n",
    "\n",
    "def main():\n",
    "    st.title(\"Physio-BOT\")\n",
    "    st.write(\"Ask me anything related to physiotherapy!\")\n",
    "\n",
    "    user_query = st.text_input(\"Enter your question here:\")\n",
    "\n",
    "    if st.button(\"Get Answer\"):\n",
    "        if user_query.strip() == \"\":\n",
    "            st.warning(\"Please enter a question.\")\n",
    "        else:\n",
    "            # Step 1: Embed the query\n",
    "            query_embedding = generate_query_embedding(user_query)\n",
    "\n",
    "            # Step 2: Retrieve relevant chunks\n",
    "            retrieved_chunks = retrieve_relevant_chunks(query_embedding)\n",
    "\n",
    "            # Step 3: Generate an answer with the Gemini model\n",
    "            answer = generate_answer_with_gemini(user_query, retrieved_chunks)\n",
    "\n",
    "            # Display the answer in the Streamlit app\n",
    "            st.subheader(\"Physio-BOT's Answer:\")\n",
    "            st.write(answer)\n",
    "\n",
    "            # (Optional) If you want to see the chunks that were retrieved:\n",
    "            # st.subheader(\"Retrieved Chunks for Debugging:\")\n",
    "            # for idx, chunk in enumerate(retrieved_chunks, start=1):\n",
    "            #    st.markdown(f\"*Chunk {idx}:*\")\n",
    "            #    st.write(chunk)\n",
    "\n",
    "if __name__ == \"__main__\":\n",
    "    main()"
   ]
  }
 ],
 "metadata": {
  "kernelspec": {
   "display_name": "physioenv",
   "language": "python",
   "name": "python3"
  },
  "language_info": {
   "codemirror_mode": {
    "name": "ipython",
    "version": 3
   },
   "file_extension": ".py",
   "mimetype": "text/x-python",
   "name": "python",
   "nbconvert_exporter": "python",
   "pygments_lexer": "ipython3",
   "version": "3.12.5"
  }
 },
 "nbformat": 4,
 "nbformat_minor": 2
}
