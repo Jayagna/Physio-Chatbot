{
 "cells": [
  {
   "cell_type": "code",
   "execution_count": 1,
   "metadata": {},
   "outputs": [
    {
     "name": "stderr",
     "output_type": "stream",
     "text": [
      "c:\\Users\\ASUS\\Documents\\GitHub\\Physio-Chatbot\\physioenv\\Lib\\site-packages\\tqdm\\auto.py:21: TqdmWarning: IProgress not found. Please update jupyter and ipywidgets. See https://ipywidgets.readthedocs.io/en/stable/user_install.html\n",
      "  from .autonotebook import tqdm as notebook_tqdm\n"
     ]
    }
   ],
   "source": [
    "import streamlit as st\n",
    "import google.generativeai as genai"
   ]
  },
  {
   "cell_type": "code",
   "execution_count": 2,
   "metadata": {},
   "outputs": [],
   "source": [
    "from dotenv import load_dotenv\n",
    "import os\n",
    "load_dotenv()\n",
    "# CONFIGURING GENAI KEY\n",
    "api_key=os.getenv(\"GOOGLE_API_KEY\")\n",
    "genai.configure(api_key=api_key)"
   ]
  },
  {
   "cell_type": "code",
   "execution_count": 3,
   "metadata": {},
   "outputs": [],
   "source": [
    "import fitz\n",
    "# Function to extract text from a PDF\n",
    "def extract_text_from_pdf(pdf_path):\n",
    "    doc = fitz.open(pdf_path)\n",
    "    text = \"\"\n",
    "    for page in doc:\n",
    "        text += page.get_text()\n",
    "    return text"
   ]
  },
  {
   "cell_type": "code",
   "execution_count": 4,
   "metadata": {},
   "outputs": [],
   "source": [
    "extracted_data = extract_text_from_pdf(r\"C:\\Users\\ASUS\\Documents\\GitHub\\Physio-Chatbot\\Sources\\Tidy's Physiotherapy.pdf\")"
   ]
  },
  {
   "cell_type": "code",
   "execution_count": 5,
   "metadata": {},
   "outputs": [],
   "source": [
    "from langchain_text_splitters import RecursiveCharacterTextSplitter\n",
    "# Function to split the extracted text into chunks\n",
    "def split_text_into_chunks(text):\n",
    "    text_splitter = RecursiveCharacterTextSplitter(chunk_size=500, chunk_overlap=50)\n",
    "    chunks = text_splitter.split_text(text)\n",
    "    return chunks"
   ]
  },
  {
   "cell_type": "code",
   "execution_count": 6,
   "metadata": {},
   "outputs": [],
   "source": [
    "splitted_chunks=split_text_into_chunks(extracted_data)"
   ]
  },
  {
   "cell_type": "code",
   "execution_count": 7,
   "metadata": {},
   "outputs": [
    {
     "name": "stdout",
     "output_type": "stream",
     "text": [
      "Chunk 0: Tidy's Physiotherapy\n",
      "Dedication\n",
      "To all the physiotherapy students, who have taught me so much.\n",
      "I tha\n",
      "Chunk 1: Manchester\n",
      "UK\n",
      "Honorary Research Fellow\n",
      "Wrightington Wigan and Leigh NHS Trust\n",
      "Wigan\n",
      "Lancashire\n",
      "UK\n",
      "B \n",
      "Chunk 2: or by any means, electronic, mechanical, photocopying, recording or otherwise, without either the pr\n",
      "Chunk 3: complete your request on-line via the Elsevier Science homepage (http://www.elsevier.com), by select\n",
      "Chunk 4: Notice\n",
      "Medical knowledge is constantly changing. Standard safety precautions must be followed, but a\n"
     ]
    }
   ],
   "source": [
    "for i, chunk in enumerate(splitted_chunks[:5]):\n",
    "    print(f\"Chunk {i}: {chunk[:100]}\") "
   ]
  },
  {
   "cell_type": "code",
   "execution_count": 8,
   "metadata": {},
   "outputs": [],
   "source": [
    "def generate_gemini_embeddings(chunks):\n",
    "    embeddings = []\n",
    "    for chunk in chunks:\n",
    "        if chunk.strip():  # Ensure the chunk is not empty\n",
    "            response = genai.embed_content(\n",
    "                model=\"models/text-embedding-004\",  # Gemini Pro embedding model\n",
    "                content=chunk\n",
    "            )\n",
    "            \n",
    "            # Now we directly access 'embedding' as it contains the values directly\n",
    "            if isinstance(response, dict) and 'embedding' in response:\n",
    "                embeddings.append(response['embedding'])  # Append the embedding directly\n",
    "    return embeddings"
   ]
  },
  {
   "cell_type": "code",
   "execution_count": 12,
   "metadata": {},
   "outputs": [],
   "source": [
    "embedded_chunks=generate_gemini_embeddings(splitted_chunks)"
   ]
  },
  {
   "cell_type": "code",
   "execution_count": 9,
   "metadata": {},
   "outputs": [],
   "source": [
    "load_dotenv()\n",
    "papi_key = os.getenv(\"PINECONE_API_KEY\")"
   ]
  },
  {
   "cell_type": "code",
   "execution_count": 10,
   "metadata": {},
   "outputs": [],
   "source": [
    "from pinecone import Pinecone, ServerlessSpec\n",
    "\n",
    "# Initialize Pinecone\n",
    "pc = Pinecone(api_key=papi_key)\n",
    "\n",
    "index = pc.Index(\"physio\")"
   ]
  },
  {
   "cell_type": "code",
   "execution_count": 11,
   "metadata": {},
   "outputs": [
    {
     "ename": "NameError",
     "evalue": "name 'embedded_chunks' is not defined",
     "output_type": "error",
     "traceback": [
      "\u001b[1;31m---------------------------------------------------------------------------\u001b[0m",
      "\u001b[1;31mNameError\u001b[0m                                 Traceback (most recent call last)",
      "Cell \u001b[1;32mIn[11], line 20\u001b[0m\n\u001b[0;32m     17\u001b[0m             vectors \u001b[38;5;241m=\u001b[39m []  \u001b[38;5;66;03m# Clear the list after each batch\u001b[39;00m\n\u001b[0;32m     19\u001b[0m \u001b[38;5;66;03m# Call the function to upsert embeddings in batches\u001b[39;00m\n\u001b[1;32m---> 20\u001b[0m upsert_embeddings_in_batches(splitted_chunks, \u001b[43membedded_chunks\u001b[49m, batch_size\u001b[38;5;241m=\u001b[39m\u001b[38;5;241m100\u001b[39m)\n",
      "\u001b[1;31mNameError\u001b[0m: name 'embedded_chunks' is not defined"
     ]
    }
   ],
   "source": [
    "def upsert_embeddings_in_batches(text_chunks, embeddings, batch_size=100):\n",
    "    vectors = []\n",
    "    \n",
    "    for i, embedding in enumerate(embeddings):\n",
    "        # Create metadata for each chunk\n",
    "        metadata = {\"text\": text_chunks[i], \"source\": \"your_document_source\"}\n",
    "        vector = {\n",
    "            \"id\": f\"vec{i}\",  # Unique ID for each vector\n",
    "            \"values\": embedding,  # The embedding values\n",
    "            \"metadata\": metadata  # Metadata for the chunk\n",
    "        }\n",
    "        vectors.append(vector)\n",
    "        \n",
    "        # Batch upsert every `batch_size` chunks\n",
    "        if (i + 1) % batch_size == 0 or (i + 1) == len(embeddings):\n",
    "            index.upsert(vectors=vectors, namespace=\"ns1\")\n",
    "            vectors = []  # Clear the list after each batch\n",
    "\n",
    "# Call the function to upsert embeddings in batches\n",
    "upsert_embeddings_in_batches(splitted_chunks, embedded_chunks, batch_size=100)"
   ]
  },
  {
   "cell_type": "code",
   "execution_count": 12,
   "metadata": {},
   "outputs": [],
   "source": [
    "def generate_query_embedding(query):\n",
    "    response = genai.embed_content(\n",
    "        model=\"models/text-embedding-004\",  # Gemini Pro embedding model\n",
    "        content=query\n",
    "    )\n",
    "    \n",
    "    # Extract and return the embedding from the response\n",
    "    if 'embedding' in response:\n",
    "        return response['embedding']\n",
    "    else:\n",
    "        raise ValueError(f\"Failed to generate embeddings for query: {query}\")"
   ]
  },
  {
   "cell_type": "code",
   "execution_count": 13,
   "metadata": {},
   "outputs": [],
   "source": [
    "def retrieve_relevant_chunks(query_embedding):\n",
    "    # Search Pinecone index using the query embedding\n",
    "    query_response = index.query(\n",
    "    vector=query_embedding,\n",
    "    top_k=10,\n",
    "    include_metadata=True,\n",
    "    namespace=\"ns1\"\n",
    ")\n",
    "    \n",
    "    # Extract relevant chunks from the Pinecone response\n",
    "    retrieved_chunks = [match['metadata']['text'] for match in query_response['matches']]\n",
    "    return retrieved_chunks"
   ]
  },
  {
   "cell_type": "code",
   "execution_count": 14,
   "metadata": {},
   "outputs": [
    {
     "name": "stdout",
     "output_type": "stream",
     "text": [
      "['355\\nSymptoms of Coronary Heart\\nDisease\\nAn angina attack is characterised by the sensation of\\nsevere pain and heaviness or tightness behind the ster-\\nnum. Pain radiating to the arms, neck, jaw, back or\\nstomach is also common. One of the more common\\ncauses of angina is physical activity, particularly after a\\nlarge meal. However, sufferers can also get an attack\\nduring other forms of stress, or even whilst resting or\\nasleep.\\nUnlike a transient ischaemic attack (TIA), a myocar-\\ndial infarction', 'tightness, dryness or irritation in the upper respiratory\\ntract. Attacks tend to be episodic, often occurring sev-\\neral times a year. Their duration varies from a few sec-\\nonds to many months and the severity may be anything\\nfrom mild wheezing to great distress. The most pre-\\ndominant features are summarised below.\\nWheeze and dyspnoea\\nDyspnoea may be intense and chiefly occurs on expira-\\ntion, which becomes a conscious exhausting effort with', 'and tendon jerks, probably due to loss of\\ninhibitory influences on the alphamotor\\nneurones (Mense et al. 2001).\\n• \\nMuscle tension. An increase in resistance to\\npassive movement of a joint.\\n• \\nMuscle tone. The resting tension of a mus-\\ncle, clinically determined as resistance to\\npassive movement or to deformation.\\n• \\nMyalgia. Pain felt within a muscle.\\n• \\nProprioception. The specialised variation of\\nthe sensory modality of touch that encom-\\npasses the sensation of joint movement', 'the symptom they are most concerned with.\\nPerceptual disturbances\\nThis is a non-specific term that describes the way in\\nwhich the individual perceives sensory information.\\nPerception requires the interaction of visual and spatial\\ncomponents. Types of perceptual disturbance include\\ndisruption in figure-ground differentiation, spatial\\nawareness, inattention or neglect, disturbances in con-\\nstructional abilities, and many other forms.\\nVisual disturbances', 'the heart may become apparent only under stressful\\nsituations. Symptoms such as fatigue and weakness are\\ngenerally related to poor perfusion of active muscles\\nduring exercise following a decline of cardiac output.\\nDifficulty in breathing during exertion may also occur,\\nbut pulmonary oedema is not usually present. Other\\nmanifestations of a reduced cardiac performance and\\nlow output state include sinus tachycardia, light-head-\\nedness or fainting (syncope), mental confusion, and\\ncool pallid skin.', '(hypertonia) or decreased (hypotonia).\\nFurther reading\\nReaders are referred to Edwards (2002)\\nfor a detailed account of abnormal\\nmuscle tone.\\nSensory disturbances\\nDisturbances in cutaneous sensation result from a dis-\\nruption in afferent information. This can be classified\\nas paraesthesia or anaesthesia where there is dimin-\\nished or absent afferent information. An increase in\\ncutaneous sensitivity is termed hyperaesthesia and can\\nbe an equally troublesome feature. The presentation', 'newly acquired or diagnosed condition.\\nmotivation. Emotional changes can present in the form\\nof emotional lability, depression or euphoria.\\nPhysical dysfunction\\nSmooth and efficient movement is reliant upon intact\\nsensory and motor pathways. Any disruption to these\\npathways will lead to movement disorders.\\nIncoordination of movement\\nWeakness or paralysis of muscle groups will result in an\\nimbalance of activity and therefore incoordination of\\nmovement.\\nAtaxia', 'domly throughout the body. The absence of sustained\\nabnormal posturing distinguishes this condition from\\ndystonia.\\nBallismus\\nThe movements are large and sudden and can affect\\none side of the body (hemiballismus).\\nTremor\\nThese are fine, rapidly oscillating, unwanted move-\\nments. Tremors are often classified in relation to the\\ncircumstances in which they occur. For example an\\nintention tremor is made worse by voluntary move-\\nment of the limb, particularly at the end of a move-', 'may or may not have diagnosed heart\\ndisease. Death occurs instantly or shortly after\\nsymptoms appear.\\nWhen the pumping ability of the heart is dimin-\\nished, systolic blood pressure drops, and the sympa-\\nthetic nervous system is activated, leading to peripheral\\nvasoconstriction and tachycardia with the aim of main-\\ntaining arterial pressure and coronary and cerebral per-\\nfusion. The net effect increases the load on the heart\\nand this may result in a fatal shock state.', 'may then lack the strength to circulate an adequate vol-\\nume of blood, fainting (syncope) can occur.\\nThe important difference between myocardial\\ninfarction and angina is that the MI pain lasts for a\\nmuch longer period, at least 15-30 minutes, and some-\\ntimes for several hours or perhaps for a day. A heart\\nattack may also be complicated by the appearance of\\none or more cardiac arrhythmias.\\nThe severity of the symptoms of MI vary. Often\\nthere is severe pain and collapse, but sometimes a heart']\n"
     ]
    }
   ],
   "source": [
    "def query_and_retrieve(query):\n",
    "    # Step 1: Generate the embedding for the query\n",
    "    query_embedding = generate_query_embedding(query)\n",
    "    \n",
    "    # Step 2: Retrieve relevant chunks using the generated embedding\n",
    "    retrieved_texts = retrieve_relevant_chunks(query_embedding)\n",
    "    \n",
    "    # Step 3: Return the retrieved texts\n",
    "    return retrieved_texts\n",
    "\n",
    "# Example Usage\n",
    "query = \"What are the symptoms of anxiety?\"\n",
    "retrieved_texts = query_and_retrieve(query)\n",
    "\n",
    "print(retrieved_texts)"
   ]
  },
  {
   "cell_type": "code",
   "execution_count": 15,
   "metadata": {},
   "outputs": [],
   "source": [
    "# Function to use Gemini Pro LLM to generate the final answer\n",
    "def generate_answer_with_gemini(query, retrieved_chunks):\n",
    "    # Combine the retrieved chunks into a single context\n",
    "    context = \"\\n\".join(retrieved_chunks)\n",
    "\n",
    "    # Crafting the prompt for PhysioBot\n",
    "    prompt = f\"\"\"\n",
    "    You are a PhysioBOT and you have been asked to provide information from the sources you have read : {context}\n",
    "    A user asks you: \"{query}\"\n",
    "    you must answer in a very friendly and informative way and you must provide the answer in detail and in a way that is easy to understand.\n",
    "    Based on your knowledge, you provide the following answer:\n",
    "    \"\"\"\n",
    "\n",
    "    model = genai.GenerativeModel('gemini-pro')\n",
    "    response = model.generate_content([prompt])\n",
    "    return response.text\n"
   ]
  },
  {
   "cell_type": "code",
   "execution_count": 17,
   "metadata": {},
   "outputs": [
    {
     "name": "stdout",
     "output_type": "stream",
     "text": [
      "Step 1: Embedding the query...\n",
      "Step 1 complete.\n",
      "Step 2: Retrieving relevant chunks from Pinecone...\n",
      "['Figure 2.34 (a) Resisted lateral rotation at the shoulder. (b) Resisted medial rotation at the shoulder\\nmedial rotation at the shoulder.\\nFigure 2.33 Quadrant test of the shoulder\\n52\\nrotation and slight flexion. The physiotherapist grasps\\nthe humeral head with one hand, and the medial hand\\nis used to stabilise the shoulder girdle. The lateral hand\\napplies the anterior translation force in the same way as\\nthe anterior draw test of the knee. Laxity of the joint', 'degrees; internal and external rotation beside the trunk\\nand at 90 degrees of elevation in the plane of the\\nscapula; and resisted muscle testing in positions of\\nfunction and/or pain.\\nOther shoulder joint abnormalities\\nSporting activities that give rise to symptoms, such\\nas the late cocking stage of throwing a ball over-\\nhead, should also be assessed to determine faulty\\nmechanics.\\nMuscle length tests\\nIt may be useful to test the length of muscles that are', 'humeral joint is limitation of lateral rotation, abduc-\\ntion and medial rotation (Cyriax 1982).\\nShoulder girdle movements\\nAssess shoulder girdle elevation, depression, protrac-\\ntion and retraction, observing for pain asymmetry and\\ncrepitus.\\nShoulder joint flexion\\nObserve flexion through to elevation and return of\\nmovement, assessing the scapulohumeral rhythm.\\nNormal should be in the ratio of 2:1 (humerus:\\nscapula). Reversed scapulohumeral rhythm occurs in', 'Key point\\nNote that the capsular pattern for the\\nglenohumeral joint is limitation of lat-\\neral rotation, abduction and medial\\nrotation (Cyriax 1982).\\nAccessory movements\\nAcromioclavicular and sternoclavicular\\njoints\\nTest anteroposterior (AP) and posteroanterior (PA)\\ndraw, and caudal glide.\\nGlenohumeral joint\\nTest anteroposterior (AP) and posteroanterior (PA)\\ndraw, caudal and cephalad glide, and lateral distraction\\n(Figure 2.32).\\nFurther tests (Maitland 2001)', 'Shoulder functional movements\\nFunctional movements such as hand behind the back\\n(HBB), and the hand behind the neck (HBN), should\\nalso be assessed. These movements are grossly\\nrestricted in patients with adhesive capsulitis.\\nPassive movements\\nAll movements performed actively can be repeated pas-\\nsively, noting the differences in range. Observe the dif-\\nferences in end-feel and compare these with the\\nunaffected side.\\nKey point\\nNote that the capsular pattern for the', 'muscle or a lesion of the long thoracic nerve. Pseudo-\\nwinging of the scapulae occurs when the inferior angle\\nof the scapula is displaced from the thoracic wall.\\nObserve the soft-tissue contours of the shoulder for\\nsymmetry, and areas of atrophy and hypertrophy. The\\nacromion processes should be horizontal to, or slightly\\nhigher than, the point at the root of the scapula. If the\\nroot of the scapula is higher this indicates tightness or\\noveractivity of the levator scapulae and rhomboid', 'angle to a body segment, as in the example in Figure\\n6.46. The muscle force has components along and\\nperpendicular to the axis of the arm.\\n• The rotary component is the force that tries to turn\\nthe body segment around the proximal joint (e.g.\\nflexing or extending the elbow joint), and balances\\nthe external moments acting on the body segment.\\nRotary component = muscle force x sin A\\n• The stabilising component is the force that acts along\\nthe body segment (e.g. the forearm) forcing into, or', \"Impingement may also be caused by weakness or\\ninhibition of the rotator cuff muscles that produces a\\nsuperior translation of the humeral head (i.e. sub-\\nscapular is, teres minor and lower infraspinatus). There\\nmay also be late timing of lateral rotation during\\nabduction which may cause impingement.\\nFigire 2.31 Reversed scapulohumeral rhythm of\\nthe \\nright \\nshoulder.\\n49\\n50 \\nTidy's Physitherapy\\nTightness of pectoralis minor can cause increased\\nprotraction of the scapula which decreases the sub-\", \"Appendices\\n524\\nMyotomes\\nC4 \\nShoulder shrug\\nC5 \\nShoulder abduction, external rotation\\nC6 \\nElbow flexion, wrist extension\\nC7 \\nElbow extension, wrist flexion\\nC8 \\nUlnar deviation, thumb abduction, finger\\nabduction\\nTl \\nFinger adduction\\nL2 \\nHip flexion\\nL3 \\nHip flexion, knee extension\\nL4 \\nKnee extension, ankle dorsiflexion\\nL5 \\nGreat toe dorsiflexion (extension) eversion\\nS1/S2 \\nAnkle plantarflexion, knee flexion\\nS3/S4 \\nRectal sphincter\\nTidy's Physiotherapy\\n525\\nBiomechanics:\", 'in symptoms, then the glenohumeral joint is impli-\\ncated.\\n2. If the movement is repeated and a longitudinal force\\nin a cephalad direction is applied (increasing com-\\npression on the subacromial structures), with an\\nincrease in pain, the subacromial structures are\\nimplicated.\\nFailure to initiate or maintain abduction when placed\\npassively into abduction is a sign of rotator cuff\\nrupture, and the patient should be referred to a con-\\nsultant for a repair/further investigations.']\n",
      "Step 2 complete.\n",
      "Step 3: Generating an answer using Gemini Pro LLM...\n",
      "Step 3 complete.\n",
      "\n",
      "Physio-BOT's Answer:\n",
      "Of course, I'd be pleased to help you with that! 😊\n",
      "\n",
      "**External rotation of the shoulder** is primarily led by the **infraspinatus** muscle. The infraspinatus is one of the four rotator cuff muscles, and it originates from the scapula (shoulder blade) and inserts into the greater tubercle of the humerus (upper arm bone). When the infraspinatus contracts, it externally rotates the humerus, which is the movement of turning the arm outward.\n",
      "\n",
      "Here's a **step-by-step breakdown** of how the infraspinatus muscle contributes to external rotation:\n",
      "\n",
      "1. **Nerve stimulation**: The infraspinatus muscle receives nerve signals from the suprascapular nerve. When the suprascapular nerve is stimulated, it sends a message to the infraspinatus muscle to contract.\n",
      "\n",
      "2. **Muscle contraction**: Upon receiving the nerve signal, the infraspinatus muscle fibers shorten, generating force. This force is transmitted through the muscle's tendons to the greater tubercle of the humerus.\n",
      "\n",
      "3. **External rotation**: As the infraspinatus muscle contracts, it pulls the greater tubercle of the humerus posteriorly (backward) and laterally (outward). This movement causes the humerus to rotate externally, resulting in the outward turning of the arm.\n",
      "\n",
      "It's important to note that while the infraspinatus is the primary muscle responsible for external rotation, other muscles, such as the **teres minor** and **posterior deltoid**, can also contribute to this movement. These muscles work together to ensure smooth and coordinated external rotation of the shoulder.\n",
      "\n",
      "I hope this detailed explanation helps you understand the role of the infraspinatus muscle in external rotation of the shoulder. Let me know if you have any other questions! 😊\n"
     ]
    }
   ],
   "source": [
    "# Main function to handle user input and process the query through Physio-BOT\n",
    "def main():\n",
    "    # Prompt user for input\n",
    "    query = input(\"What would you like to ask Physio-BOT? \")\n",
    "\n",
    "    print(\"Step 1: Embedding the query...\")\n",
    "    # Step 1: Embed the query using Gemini Pro\n",
    "    query_embedding = generate_query_embedding(query)\n",
    "    print(\"Step 1 complete.\")\n",
    "\n",
    "    print(\"Step 2: Retrieving relevant chunks from Pinecone...\")\n",
    "    # Step 2: Retrieve relevant chunks from Pinecone based on query embedding\n",
    "    retrieved_chunks = retrieve_relevant_chunks(query_embedding)\n",
    "    print(retrieved_chunks)\n",
    "    print(\"Step 2 complete.\")\n",
    "\n",
    "    print(\"Step 3: Generating an answer using Gemini Pro LLM...\")\n",
    "    # Step 3: Generate an answer using Gemini Pro LLM with the retrieved chunks\n",
    "    answer = generate_answer_with_gemini(query, retrieved_chunks)\n",
    "    print(\"Step 3 complete.\")\n",
    "\n",
    "\n",
    "    # Display the final answer to the user\n",
    "    print(\"\\nPhysio-BOT's Answer:\")\n",
    "    print(answer)\n",
    "\n",
    "# Run the main function\n",
    "if __name__ == \"__main__\":\n",
    "    main()"
   ]
  },
  {
   "cell_type": "code",
   "execution_count": 1,
   "metadata": {},
   "outputs": [
    {
     "name": "stderr",
     "output_type": "stream",
     "text": [
      "2025-01-12 15:06:18.011 WARNING streamlit.runtime.scriptrunner_utils.script_run_context: Thread 'MainThread': missing ScriptRunContext! This warning can be ignored when running in bare mode.\n",
      "2025-01-12 15:06:18.318 \n",
      "  \u001b[33m\u001b[1mWarning:\u001b[0m to view this Streamlit app on a browser, run it with the following\n",
      "  command:\n",
      "\n",
      "    streamlit run c:\\Users\\ASUS\\Documents\\GitHub\\Physio-Chatbot\\physioenv\\Lib\\site-packages\\ipykernel_launcher.py [ARGUMENTS]\n",
      "2025-01-12 15:06:18.319 Thread 'MainThread': missing ScriptRunContext! This warning can be ignored when running in bare mode.\n",
      "2025-01-12 15:06:18.320 Thread 'MainThread': missing ScriptRunContext! This warning can be ignored when running in bare mode.\n",
      "2025-01-12 15:06:18.320 Thread 'MainThread': missing ScriptRunContext! This warning can be ignored when running in bare mode.\n",
      "2025-01-12 15:06:18.320 Thread 'MainThread': missing ScriptRunContext! This warning can be ignored when running in bare mode.\n",
      "2025-01-12 15:06:18.321 Thread 'MainThread': missing ScriptRunContext! This warning can be ignored when running in bare mode.\n",
      "2025-01-12 15:06:18.322 Thread 'MainThread': missing ScriptRunContext! This warning can be ignored when running in bare mode.\n",
      "2025-01-12 15:06:18.322 Thread 'MainThread': missing ScriptRunContext! This warning can be ignored when running in bare mode.\n",
      "2025-01-12 15:06:18.322 Thread 'MainThread': missing ScriptRunContext! This warning can be ignored when running in bare mode.\n",
      "2025-01-12 15:06:18.323 Thread 'MainThread': missing ScriptRunContext! This warning can be ignored when running in bare mode.\n",
      "2025-01-12 15:06:18.323 Session state does not function when running a script without `streamlit run`\n",
      "2025-01-12 15:06:18.324 Thread 'MainThread': missing ScriptRunContext! This warning can be ignored when running in bare mode.\n",
      "2025-01-12 15:06:18.324 Thread 'MainThread': missing ScriptRunContext! This warning can be ignored when running in bare mode.\n",
      "2025-01-12 15:06:18.325 Thread 'MainThread': missing ScriptRunContext! This warning can be ignored when running in bare mode.\n",
      "2025-01-12 15:06:18.325 Thread 'MainThread': missing ScriptRunContext! This warning can be ignored when running in bare mode.\n",
      "2025-01-12 15:06:18.326 Thread 'MainThread': missing ScriptRunContext! This warning can be ignored when running in bare mode.\n",
      "2025-01-12 15:06:18.326 Thread 'MainThread': missing ScriptRunContext! This warning can be ignored when running in bare mode.\n",
      "2025-01-12 15:06:18.326 Thread 'MainThread': missing ScriptRunContext! This warning can be ignored when running in bare mode.\n"
     ]
    }
   ],
   "source": [
    "import streamlit as st\n",
    "\n",
    "def main():\n",
    "    st.title(\"Physio-BOT\")\n",
    "    st.write(\"Ask me anything related to physiotherapy!\")\n",
    "\n",
    "    user_query = st.text_input(\"Enter your question here:\")\n",
    "\n",
    "    if st.button(\"Get Answer\"):\n",
    "        if user_query.strip() == \"\":\n",
    "            st.warning(\"Please enter a question.\")\n",
    "        else:\n",
    "            # Step 1: Embed the query\n",
    "            query_embedding = generate_query_embedding(user_query)\n",
    "\n",
    "            # Step 2: Retrieve relevant chunks\n",
    "            retrieved_chunks = retrieve_relevant_chunks(query_embedding)\n",
    "\n",
    "            # Step 3: Generate an answer with the Gemini model\n",
    "            answer = generate_answer_with_gemini(user_query, retrieved_chunks)\n",
    "\n",
    "            # Display the answer in the Streamlit app\n",
    "            st.subheader(\"Physio-BOT's Answer:\")\n",
    "            st.write(answer)\n",
    "\n",
    "            # (Optional) If you want to see the chunks that were retrieved:\n",
    "            # st.subheader(\"Retrieved Chunks for Debugging:\")\n",
    "            # for idx, chunk in enumerate(retrieved_chunks, start=1):\n",
    "            #    st.markdown(f\"*Chunk {idx}:*\")\n",
    "            #    st.write(chunk)\n",
    "\n",
    "if __name__ == \"__main__\":\n",
    "    main()"
   ]
  }
 ],
 "metadata": {
  "kernelspec": {
   "display_name": "physioenv",
   "language": "python",
   "name": "python3"
  },
  "language_info": {
   "codemirror_mode": {
    "name": "ipython",
    "version": 3
   },
   "file_extension": ".py",
   "mimetype": "text/x-python",
   "name": "python",
   "nbconvert_exporter": "python",
   "pygments_lexer": "ipython3",
   "version": "3.12.5"
  }
 },
 "nbformat": 4,
 "nbformat_minor": 2
}
