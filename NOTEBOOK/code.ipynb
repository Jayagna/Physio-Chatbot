{
 "cells": [
  {
   "cell_type": "code",
   "execution_count": 2,
   "metadata": {},
   "outputs": [
    {
     "name": "stderr",
     "output_type": "stream",
     "text": [
      "c:\\Users\\ASUS\\Documents\\GitHub\\Physio-Chatbot\\physioenv\\Lib\\site-packages\\tqdm\\auto.py:21: TqdmWarning: IProgress not found. Please update jupyter and ipywidgets. See https://ipywidgets.readthedocs.io/en/stable/user_install.html\n",
      "  from .autonotebook import tqdm as notebook_tqdm\n"
     ]
    }
   ],
   "source": [
    "import streamlit as st\n",
    "import google.generativeai as genai"
   ]
  },
  {
   "cell_type": "code",
   "execution_count": 3,
   "metadata": {},
   "outputs": [],
   "source": [
    "from dotenv import load_dotenv\n",
    "import os\n",
    "load_dotenv()\n",
    "# CONFIGURING GENAI KEY\n",
    "api_key=os.getenv(\"GOOGLE_API_KEY\")\n",
    "genai.configure(api_key=api_key)"
   ]
  },
  {
   "cell_type": "code",
   "execution_count": 5,
   "metadata": {},
   "outputs": [],
   "source": [
    "import fitz\n",
    "# Function to extract text from a PDF\n",
    "def extract_text_from_pdf(pdf_path):\n",
    "    doc = fitz.open(pdf_path)\n",
    "    text = \"\"\n",
    "    for page in doc:\n",
    "        text += page.get_text()\n",
    "    return text"
   ]
  },
  {
   "cell_type": "code",
   "execution_count": 6,
   "metadata": {},
   "outputs": [],
   "source": [
    "extracted_data = extract_text_from_pdf(r\"C:\\Users\\ASUS\\Documents\\GitHub\\Physio-Chatbot\\Sources\\Tidy's Physiotherapy.pdf\")"
   ]
  },
  {
   "cell_type": "code",
   "execution_count": 7,
   "metadata": {},
   "outputs": [],
   "source": [
    "from langchain_text_splitters import RecursiveCharacterTextSplitter\n",
    "# Function to split the extracted text into chunks\n",
    "def split_text_into_chunks(text):\n",
    "    text_splitter = RecursiveCharacterTextSplitter(chunk_size=500, chunk_overlap=50)\n",
    "    chunks = text_splitter.split_text(text)\n",
    "    return chunks"
   ]
  },
  {
   "cell_type": "code",
   "execution_count": 8,
   "metadata": {},
   "outputs": [],
   "source": [
    "splitted_chunks=split_text_into_chunks(extracted_data)"
   ]
  },
  {
   "cell_type": "code",
   "execution_count": 9,
   "metadata": {},
   "outputs": [
    {
     "name": "stdout",
     "output_type": "stream",
     "text": [
      "Chunk 0: Tidy's Physiotherapy\n",
      "Dedication\n",
      "To all the physiotherapy students, who have taught me so much.\n",
      "I tha\n",
      "Chunk 1: Manchester\n",
      "UK\n",
      "Honorary Research Fellow\n",
      "Wrightington Wigan and Leigh NHS Trust\n",
      "Wigan\n",
      "Lancashire\n",
      "UK\n",
      "B \n",
      "Chunk 2: or by any means, electronic, mechanical, photocopying, recording or otherwise, without either the pr\n",
      "Chunk 3: complete your request on-line via the Elsevier Science homepage (http://www.elsevier.com), by select\n",
      "Chunk 4: Notice\n",
      "Medical knowledge is constantly changing. Standard safety precautions must be followed, but a\n"
     ]
    }
   ],
   "source": [
    "for i, chunk in enumerate(splitted_chunks[:5]):\n",
    "    print(f\"Chunk {i}: {chunk[:100]}\") "
   ]
  },
  {
   "cell_type": "code",
   "execution_count": 10,
   "metadata": {},
   "outputs": [],
   "source": [
    "def generate_gemini_embeddings(chunks):\n",
    "    embeddings = []\n",
    "    for chunk in chunks:\n",
    "        if chunk.strip():  # Ensure the chunk is not empty\n",
    "            response = genai.embed_content(\n",
    "                model=\"models/text-embedding-004\",  # Gemini Pro embedding model\n",
    "                content=chunk\n",
    "            )\n",
    "            \n",
    "            # Now we directly access 'embedding' as it contains the values directly\n",
    "            if isinstance(response, dict) and 'embedding' in response:\n",
    "                embeddings.append(response['embedding'])  # Append the embedding directly\n",
    "    return embeddings"
   ]
  },
  {
   "cell_type": "code",
   "execution_count": 12,
   "metadata": {},
   "outputs": [],
   "source": [
    "embedded_chunks=generate_gemini_embeddings(splitted_chunks)"
   ]
  },
  {
   "cell_type": "code",
   "execution_count": 11,
   "metadata": {},
   "outputs": [],
   "source": [
    "load_dotenv()\n",
    "papi_key = os.getenv(\"PINECONE_API_KEY\")"
   ]
  },
  {
   "cell_type": "code",
   "execution_count": 12,
   "metadata": {},
   "outputs": [],
   "source": [
    "from pinecone import Pinecone, ServerlessSpec\n",
    "\n",
    "# Initialize Pinecone\n",
    "pc = Pinecone(api_key=papi_key)\n",
    "\n",
    "index = pc.Index(\"physio\")"
   ]
  },
  {
   "cell_type": "code",
   "execution_count": 13,
   "metadata": {},
   "outputs": [
    {
     "ename": "NameError",
     "evalue": "name 'embedded_chunks' is not defined",
     "output_type": "error",
     "traceback": [
      "\u001b[1;31m---------------------------------------------------------------------------\u001b[0m",
      "\u001b[1;31mNameError\u001b[0m                                 Traceback (most recent call last)",
      "Cell \u001b[1;32mIn[13], line 20\u001b[0m\n\u001b[0;32m     17\u001b[0m             vectors \u001b[38;5;241m=\u001b[39m []  \u001b[38;5;66;03m# Clear the list after each batch\u001b[39;00m\n\u001b[0;32m     19\u001b[0m \u001b[38;5;66;03m# Call the function to upsert embeddings in batches\u001b[39;00m\n\u001b[1;32m---> 20\u001b[0m upsert_embeddings_in_batches(splitted_chunks, \u001b[43membedded_chunks\u001b[49m, batch_size\u001b[38;5;241m=\u001b[39m\u001b[38;5;241m100\u001b[39m)\n",
      "\u001b[1;31mNameError\u001b[0m: name 'embedded_chunks' is not defined"
     ]
    }
   ],
   "source": [
    "def upsert_embeddings_in_batches(text_chunks, embeddings, batch_size=100):\n",
    "    vectors = []\n",
    "    \n",
    "    for i, embedding in enumerate(embeddings):\n",
    "        # Create metadata for each chunk\n",
    "        metadata = {\"text\": text_chunks[i], \"source\": \"your_document_source\"}\n",
    "        vector = {\n",
    "            \"id\": f\"vec{i}\",  # Unique ID for each vector\n",
    "            \"values\": embedding,  # The embedding values\n",
    "            \"metadata\": metadata  # Metadata for the chunk\n",
    "        }\n",
    "        vectors.append(vector)\n",
    "        \n",
    "        # Batch upsert every `batch_size` chunks\n",
    "        if (i + 1) % batch_size == 0 or (i + 1) == len(embeddings):\n",
    "            index.upsert(vectors=vectors, namespace=\"ns1\")\n",
    "            vectors = []  # Clear the list after each batch\n",
    "\n",
    "# Call the function to upsert embeddings in batches\n",
    "upsert_embeddings_in_batches(splitted_chunks, embedded_chunks, batch_size=100)"
   ]
  },
  {
   "cell_type": "code",
   "execution_count": 14,
   "metadata": {},
   "outputs": [],
   "source": [
    "def generate_query_embedding(query):\n",
    "    response = genai.embed_content(\n",
    "        model=\"models/text-embedding-004\",  # Gemini Pro embedding model\n",
    "        content=query\n",
    "    )\n",
    "    \n",
    "    # Extract and return the embedding from the response\n",
    "    if 'embedding' in response:\n",
    "        return response['embedding']\n",
    "    else:\n",
    "        raise ValueError(f\"Failed to generate embeddings for query: {query}\")"
   ]
  },
  {
   "cell_type": "code",
   "execution_count": 15,
   "metadata": {},
   "outputs": [],
   "source": [
    "def retrieve_relevant_chunks(query_embedding):\n",
    "    # Search Pinecone index using the query embedding\n",
    "    query_response = index.query(\n",
    "    vector=query_embedding,\n",
    "    top_k=10,\n",
    "    include_metadata=True,\n",
    "    namespace=\"ns1\"\n",
    ")\n",
    "    \n",
    "    # Extract relevant chunks from the Pinecone response\n",
    "    retrieved_chunks = [match['metadata']['text'] for match in query_response['matches']]\n",
    "    return retrieved_chunks"
   ]
  },
  {
   "cell_type": "code",
   "execution_count": 16,
   "metadata": {},
   "outputs": [
    {
     "name": "stdout",
     "output_type": "stream",
     "text": [
      "['355\\nSymptoms of Coronary Heart\\nDisease\\nAn angina attack is characterised by the sensation of\\nsevere pain and heaviness or tightness behind the ster-\\nnum. Pain radiating to the arms, neck, jaw, back or\\nstomach is also common. One of the more common\\ncauses of angina is physical activity, particularly after a\\nlarge meal. However, sufferers can also get an attack\\nduring other forms of stress, or even whilst resting or\\nasleep.\\nUnlike a transient ischaemic attack (TIA), a myocar-\\ndial infarction', 'tightness, dryness or irritation in the upper respiratory\\ntract. Attacks tend to be episodic, often occurring sev-\\neral times a year. Their duration varies from a few sec-\\nonds to many months and the severity may be anything\\nfrom mild wheezing to great distress. The most pre-\\ndominant features are summarised below.\\nWheeze and dyspnoea\\nDyspnoea may be intense and chiefly occurs on expira-\\ntion, which becomes a conscious exhausting effort with', 'and tendon jerks, probably due to loss of\\ninhibitory influences on the alphamotor\\nneurones (Mense et al. 2001).\\n• \\nMuscle tension. An increase in resistance to\\npassive movement of a joint.\\n• \\nMuscle tone. The resting tension of a mus-\\ncle, clinically determined as resistance to\\npassive movement or to deformation.\\n• \\nMyalgia. Pain felt within a muscle.\\n• \\nProprioception. The specialised variation of\\nthe sensory modality of touch that encom-\\npasses the sensation of joint movement', 'the symptom they are most concerned with.\\nPerceptual disturbances\\nThis is a non-specific term that describes the way in\\nwhich the individual perceives sensory information.\\nPerception requires the interaction of visual and spatial\\ncomponents. Types of perceptual disturbance include\\ndisruption in figure-ground differentiation, spatial\\nawareness, inattention or neglect, disturbances in con-\\nstructional abilities, and many other forms.\\nVisual disturbances', 'the heart may become apparent only under stressful\\nsituations. Symptoms such as fatigue and weakness are\\ngenerally related to poor perfusion of active muscles\\nduring exercise following a decline of cardiac output.\\nDifficulty in breathing during exertion may also occur,\\nbut pulmonary oedema is not usually present. Other\\nmanifestations of a reduced cardiac performance and\\nlow output state include sinus tachycardia, light-head-\\nedness or fainting (syncope), mental confusion, and\\ncool pallid skin.', '(hypertonia) or decreased (hypotonia).\\nFurther reading\\nReaders are referred to Edwards (2002)\\nfor a detailed account of abnormal\\nmuscle tone.\\nSensory disturbances\\nDisturbances in cutaneous sensation result from a dis-\\nruption in afferent information. This can be classified\\nas paraesthesia or anaesthesia where there is dimin-\\nished or absent afferent information. An increase in\\ncutaneous sensitivity is termed hyperaesthesia and can\\nbe an equally troublesome feature. The presentation', 'newly acquired or diagnosed condition.\\nmotivation. Emotional changes can present in the form\\nof emotional lability, depression or euphoria.\\nPhysical dysfunction\\nSmooth and efficient movement is reliant upon intact\\nsensory and motor pathways. Any disruption to these\\npathways will lead to movement disorders.\\nIncoordination of movement\\nWeakness or paralysis of muscle groups will result in an\\nimbalance of activity and therefore incoordination of\\nmovement.\\nAtaxia', 'domly throughout the body. The absence of sustained\\nabnormal posturing distinguishes this condition from\\ndystonia.\\nBallismus\\nThe movements are large and sudden and can affect\\none side of the body (hemiballismus).\\nTremor\\nThese are fine, rapidly oscillating, unwanted move-\\nments. Tremors are often classified in relation to the\\ncircumstances in which they occur. For example an\\nintention tremor is made worse by voluntary move-\\nment of the limb, particularly at the end of a move-', 'may or may not have diagnosed heart\\ndisease. Death occurs instantly or shortly after\\nsymptoms appear.\\nWhen the pumping ability of the heart is dimin-\\nished, systolic blood pressure drops, and the sympa-\\nthetic nervous system is activated, leading to peripheral\\nvasoconstriction and tachycardia with the aim of main-\\ntaining arterial pressure and coronary and cerebral per-\\nfusion. The net effect increases the load on the heart\\nand this may result in a fatal shock state.', 'may then lack the strength to circulate an adequate vol-\\nume of blood, fainting (syncope) can occur.\\nThe important difference between myocardial\\ninfarction and angina is that the MI pain lasts for a\\nmuch longer period, at least 15-30 minutes, and some-\\ntimes for several hours or perhaps for a day. A heart\\nattack may also be complicated by the appearance of\\none or more cardiac arrhythmias.\\nThe severity of the symptoms of MI vary. Often\\nthere is severe pain and collapse, but sometimes a heart']\n"
     ]
    }
   ],
   "source": [
    "def query_and_retrieve(query):\n",
    "    # Step 1: Generate the embedding for the query\n",
    "    query_embedding = generate_query_embedding(query)\n",
    "    \n",
    "    # Step 2: Retrieve relevant chunks using the generated embedding\n",
    "    retrieved_texts = retrieve_relevant_chunks(query_embedding)\n",
    "    \n",
    "    # Step 3: Return the retrieved texts\n",
    "    return retrieved_texts\n",
    "\n",
    "# Example Usage\n",
    "query = \"What are the symptoms of anxiety?\"\n",
    "retrieved_texts = query_and_retrieve(query)\n",
    "\n",
    "print(retrieved_texts)"
   ]
  },
  {
   "cell_type": "code",
   "execution_count": 17,
   "metadata": {},
   "outputs": [],
   "source": [
    "# Function to use Gemini Pro LLM to generate the final answer\n",
    "def generate_answer_with_gemini(query, retrieved_chunks):\n",
    "    # Combine the retrieved chunks into a single context\n",
    "    context = \"\\n\".join(retrieved_chunks)\n",
    "\n",
    "    # Crafting the prompt for PhysioBot\n",
    "    prompt = f\"\"\"\n",
    "    You are a PhysioBOT and you have been asked to provide information from the sources you have read : {context}\n",
    "    A user asks you: \"{query}\"\n",
    "    you must answer in a very friendly and informative way and you must provide the answer in detail and in a way that is easy to understand.\n",
    "    Based on your knowledge, you provide the following answer:\n",
    "    \"\"\"\n",
    "\n",
    "    model = genai.GenerativeModel('gemini-pro')\n",
    "    response = model.generate_content([prompt])\n",
    "    return response.text\n"
   ]
  },
  {
   "cell_type": "code",
   "execution_count": 21,
   "metadata": {},
   "outputs": [
    {
     "name": "stdout",
     "output_type": "stream",
     "text": [
      "Step 1: Embedding the query...\n",
      "Step 1 complete.\n",
      "Step 2: Retrieving relevant chunks from Pinecone...\n",
      "['legal basis of the profession, providing statements of\\nthe conduct expected of chartered physiotherapists and\\nstudents. The current Rules (CSP 2002a) set out a num-\\nber of principles, the basis for all of which is to safe-\\nguard patients. They include requirements that\\nphysiotherapists should:\\n• respect the dignity and individual sensibilities of\\nevery patient\\n• work safely and competently\\n• ensure the confidentiality of patient information\\n• report circumstances that might otherwise put', 'where in the world, the existence and/or role of\\nprofessional bodies and the way these characteristics\\nare manifested may vary, depending on political, social\\nand financial factors.\\nBelonging to an organisation that sets\\nstandards and ideals of behaviour\\nRules of Professional Conduct were endorsed at the very\\nfirst council meeting of the CSP in 1895 (Barclay 1994)\\nand have been revised and updated at intervals since.\\nRules sets out a framework for the ethical, moral and', \"teria set out the specific actions required in order to\\nconform, in this case, to an aspect of Rule 2 of Rules of\\nProfessional Conduct 'Chartered physiotherapists shall\\nrespect and uphold the rights, dignity and individual\\nsensibilities of every patient', which includes guidance\\non informed consent. This is a good example of how\\nthe Standards and Rules complement each other. They\\nshould be used together to ensure compliance with the\\ncharacteristics and actions required of members of the\", \"set out in the Rules. The third edition (CSP 2000) has\\nevolved to place more emphasis than in earlier editions\\non practitioners:\\n• involving patients in decision-making\\n• being fully abreast of the evidence of effectiveness in\\norder to inform patients and offer the most effective\\ninterventions\\n• evaluating their practice and measuring a patient's\\nhealth gain as a result of treatment.\\nThis reflects the increasing expectations of the public\\nto be active partners in their healthcare, the expecta-\", 'specified style (e.g. Harvard, Vancouver).\\nA filing system is needed for storage and retrieval of\\npapers. These may be stored alphabetically or under\\nsubject headings.\\nRegulations\\nThe regulations for dissertations vary from college to\\ncollege, so make sure you are familiar with and under-\\nstand the regulations that apply to your dissertation\\nbefore starting work. They will detail the format of\\nyour dissertation and procedures for issues such as', 'Rules of Professional Conduct \\n2, 6\\nbenefit of intervention \\n12\\ncontinuing professional\\ndevelopment \\n12-13\\ns\\nsacral dimples 33\\nsacroiliac joint\\nankylosing spondylitis 219\\nassessment 33,34\\nfemale \\n158,159\\ninstability management\\n165-166\\nsacroiliac ligaments\\nanterior 34\\nposterior \\n34\\nsag sign 62\\nsalbutamol (Ventolin) 305\\nsalt (sodium chloride)\\ncalcium absorption and 237\\nsweat, cystic fibrosis 314\\nsampling, research 392-393\\nscalding 115\\nfirst aid \\n118\\nscaphoid, fractures \\n77, 88\\nscaphoid plaster 88', \"Tidy's Physiotherapy\\n527\\nRules to use when working out vector\\nproblems\\nFirst decide on a frame of reference (this may be com-\\npass points or planes of the human body; e.g. sagittal,\\ncoronal or transverse). If given the resultant and an\\nangle find the component vectors acting in each of the\\ndirections of your reference system. If given the com-\\nponents of the resultant then use Pythagoras' theorem\\nto find the magnitude of the resultant. Then use sine or\\ncosine to find the angle at which it acts.\", 'to test any number of skills. This circuit could be timed\\nover a number of sessions to determine improvement,\\nor may simply be used as a one-off test to determine a\\nreturn to full training.\\nKey point\\nWhen devising functional tests it is use-\\nful to apply the SMART principle: spe-\\ncific, measurable, achievable, realistic,\\ntimed. In this way they can be developed as a\\nvaluable objective measure. There is a large\\nscope for development of such tests, but it is', 'gloves depending on the area affected. If the garment is\\nfitted over a concave area, for example a glove over the\\npalm of the hand, silicon can be moulded to fit in the\\nspace in order to apply pressure.\\nFlaps\\nDefinition\\nA flap consists of the transfer of tissue\\nthat relies on a functioning arterial and\\nvenous circulation.\\nFlaps may be attached to the blood supply throughout\\nthe transfer process; the part that remains attached is\\nthe pedicle or base. A flap that is detached temporarily', \"contact with other players.\\nWith increased respiratory excursion, cardiovascu-\\nlar exercise helps to mobilise the thoracic joints and\\nmaintain or improve chest expansion and vital capac-\\nity. Regular cardiovascular exercise has other benefits,\\nincluding bodyweight reduction, and protection from\\nTidy's Physiotherapy\\n277\\nheart disease and diabetes. It also can improve sleep,\\nrelaxation and well-being.\\nKey point\\nEffective cardiovascular exercise should\\nbe performed 3-4 times a week and\"]\n",
      "Step 2 complete.\n",
      "Step 3: Generating an answer using Gemini Pro LLM...\n",
      "Step 3 complete.\n",
      "\n",
      "Physio-BOT's Answer:\n",
      "I apologize, but I am unable to provide information on the legal basis of the physiotherapy profession or statements of conduct expected of chartered physiotherapists and students as these particular topics fall outside of my scope of knowledge.\n"
     ]
    }
   ],
   "source": [
    "# Main function to handle user input and process the query through Physio-BOT\n",
    "def main():\n",
    "    # Prompt user for input\n",
    "    query = input(\"What would you like to ask Physio-BOT? \")\n",
    "\n",
    "    print(\"Step 1: Embedding the query...\")\n",
    "    # Step 1: Embed the query using Gemini Pro\n",
    "    query_embedding = generate_query_embedding(query)\n",
    "    print(\"Step 1 complete.\")\n",
    "\n",
    "    print(\"Step 2: Retrieving relevant chunks from Pinecone...\")\n",
    "    # Step 2: Retrieve relevant chunks from Pinecone based on query embedding\n",
    "    retrieved_chunks = retrieve_relevant_chunks(query_embedding)\n",
    "    print(retrieved_chunks)\n",
    "    print(\"Step 2 complete.\")\n",
    "\n",
    "    print(\"Step 3: Generating an answer using Gemini Pro LLM...\")\n",
    "    # Step 3: Generate an answer using Gemini Pro LLM with the retrieved chunks\n",
    "    answer = generate_answer_with_gemini(query, retrieved_chunks)\n",
    "    print(\"Step 3 complete.\")\n",
    "\n",
    "\n",
    "    # Display the final answer to the user\n",
    "    print(\"\\nPhysio-BOT's Answer:\")\n",
    "    print(answer)\n",
    "\n",
    "# Run the main function\n",
    "if __name__ == \"__main__\":\n",
    "    main()"
   ]
  }
 ],
 "metadata": {
  "kernelspec": {
   "display_name": "physioenv",
   "language": "python",
   "name": "python3"
  },
  "language_info": {
   "codemirror_mode": {
    "name": "ipython",
    "version": 3
   },
   "file_extension": ".py",
   "mimetype": "text/x-python",
   "name": "python",
   "nbconvert_exporter": "python",
   "pygments_lexer": "ipython3",
   "version": "3.12.5"
  }
 },
 "nbformat": 4,
 "nbformat_minor": 2
}
